{
 "cells": [
  {
   "cell_type": "code",
   "execution_count": 129,
   "id": "2fa32a86",
   "metadata": {},
   "outputs": [],
   "source": [
    "import pandas as pd"
   ]
  },
  {
   "cell_type": "code",
   "execution_count": 130,
   "id": "b4ff25a4",
   "metadata": {},
   "outputs": [
    {
     "data": {
      "text/html": [
       "<div>\n",
       "<style scoped>\n",
       "    .dataframe tbody tr th:only-of-type {\n",
       "        vertical-align: middle;\n",
       "    }\n",
       "\n",
       "    .dataframe tbody tr th {\n",
       "        vertical-align: top;\n",
       "    }\n",
       "\n",
       "    .dataframe thead th {\n",
       "        text-align: right;\n",
       "    }\n",
       "</style>\n",
       "<table border=\"1\" class=\"dataframe\">\n",
       "  <thead>\n",
       "    <tr style=\"text-align: right;\">\n",
       "      <th></th>\n",
       "      <th>Name</th>\n",
       "      <th>Maths</th>\n",
       "      <th>Science</th>\n",
       "      <th>English</th>\n",
       "    </tr>\n",
       "  </thead>\n",
       "  <tbody>\n",
       "    <tr>\n",
       "      <th>0</th>\n",
       "      <td>Amit</td>\n",
       "      <td>78</td>\n",
       "      <td>65</td>\n",
       "      <td>89</td>\n",
       "    </tr>\n",
       "    <tr>\n",
       "      <th>1</th>\n",
       "      <td>Bhavin</td>\n",
       "      <td>90</td>\n",
       "      <td>88</td>\n",
       "      <td>76</td>\n",
       "    </tr>\n",
       "    <tr>\n",
       "      <th>2</th>\n",
       "      <td>Charu</td>\n",
       "      <td>55</td>\n",
       "      <td>45</td>\n",
       "      <td>67</td>\n",
       "    </tr>\n",
       "    <tr>\n",
       "      <th>3</th>\n",
       "      <td>Divya</td>\n",
       "      <td>92</td>\n",
       "      <td>95</td>\n",
       "      <td>98</td>\n",
       "    </tr>\n",
       "    <tr>\n",
       "      <th>4</th>\n",
       "      <td>Ekta</td>\n",
       "      <td>40</td>\n",
       "      <td>55</td>\n",
       "      <td>34</td>\n",
       "    </tr>\n",
       "  </tbody>\n",
       "</table>\n",
       "</div>"
      ],
      "text/plain": [
       "     Name  Maths  Science  English\n",
       "0    Amit     78       65       89\n",
       "1  Bhavin     90       88       76\n",
       "2   Charu     55       45       67\n",
       "3   Divya     92       95       98\n",
       "4    Ekta     40       55       34"
      ]
     },
     "execution_count": 130,
     "metadata": {},
     "output_type": "execute_result"
    }
   ],
   "source": [
    "df = pd.read_csv(\"./data_file/student_marks.csv\")\n",
    "df"
   ]
  },
  {
   "cell_type": "code",
   "execution_count": 131,
   "id": "bf7ca743",
   "metadata": {},
   "outputs": [
    {
     "data": {
      "text/html": [
       "<div>\n",
       "<style scoped>\n",
       "    .dataframe tbody tr th:only-of-type {\n",
       "        vertical-align: middle;\n",
       "    }\n",
       "\n",
       "    .dataframe tbody tr th {\n",
       "        vertical-align: top;\n",
       "    }\n",
       "\n",
       "    .dataframe thead th {\n",
       "        text-align: right;\n",
       "    }\n",
       "</style>\n",
       "<table border=\"1\" class=\"dataframe\">\n",
       "  <thead>\n",
       "    <tr style=\"text-align: right;\">\n",
       "      <th></th>\n",
       "      <th>Name</th>\n",
       "      <th>Maths</th>\n",
       "      <th>Science</th>\n",
       "      <th>English</th>\n",
       "      <th>Total</th>\n",
       "    </tr>\n",
       "  </thead>\n",
       "  <tbody>\n",
       "    <tr>\n",
       "      <th>0</th>\n",
       "      <td>Amit</td>\n",
       "      <td>78</td>\n",
       "      <td>65</td>\n",
       "      <td>89</td>\n",
       "      <td>232</td>\n",
       "    </tr>\n",
       "    <tr>\n",
       "      <th>1</th>\n",
       "      <td>Bhavin</td>\n",
       "      <td>90</td>\n",
       "      <td>88</td>\n",
       "      <td>76</td>\n",
       "      <td>254</td>\n",
       "    </tr>\n",
       "    <tr>\n",
       "      <th>2</th>\n",
       "      <td>Charu</td>\n",
       "      <td>55</td>\n",
       "      <td>45</td>\n",
       "      <td>67</td>\n",
       "      <td>167</td>\n",
       "    </tr>\n",
       "    <tr>\n",
       "      <th>3</th>\n",
       "      <td>Divya</td>\n",
       "      <td>92</td>\n",
       "      <td>95</td>\n",
       "      <td>98</td>\n",
       "      <td>285</td>\n",
       "    </tr>\n",
       "    <tr>\n",
       "      <th>4</th>\n",
       "      <td>Ekta</td>\n",
       "      <td>40</td>\n",
       "      <td>55</td>\n",
       "      <td>34</td>\n",
       "      <td>129</td>\n",
       "    </tr>\n",
       "  </tbody>\n",
       "</table>\n",
       "</div>"
      ],
      "text/plain": [
       "     Name  Maths  Science  English  Total\n",
       "0    Amit     78       65       89    232\n",
       "1  Bhavin     90       88       76    254\n",
       "2   Charu     55       45       67    167\n",
       "3   Divya     92       95       98    285\n",
       "4    Ekta     40       55       34    129"
      ]
     },
     "execution_count": 131,
     "metadata": {},
     "output_type": "execute_result"
    }
   ],
   "source": [
    "#@# Calculate Total & Percentage\n",
    "df[\"Total\"] = df[[\"Maths\",\"Science\",\"English\"]].sum(axis=1);\n",
    "df"
   ]
  },
  {
   "cell_type": "code",
   "execution_count": 132,
   "id": "ea4df999",
   "metadata": {},
   "outputs": [
    {
     "data": {
      "text/html": [
       "<div>\n",
       "<style scoped>\n",
       "    .dataframe tbody tr th:only-of-type {\n",
       "        vertical-align: middle;\n",
       "    }\n",
       "\n",
       "    .dataframe tbody tr th {\n",
       "        vertical-align: top;\n",
       "    }\n",
       "\n",
       "    .dataframe thead th {\n",
       "        text-align: right;\n",
       "    }\n",
       "</style>\n",
       "<table border=\"1\" class=\"dataframe\">\n",
       "  <thead>\n",
       "    <tr style=\"text-align: right;\">\n",
       "      <th></th>\n",
       "      <th>Name</th>\n",
       "      <th>Maths</th>\n",
       "      <th>Science</th>\n",
       "      <th>English</th>\n",
       "      <th>Total</th>\n",
       "      <th>Percentage</th>\n",
       "    </tr>\n",
       "  </thead>\n",
       "  <tbody>\n",
       "    <tr>\n",
       "      <th>0</th>\n",
       "      <td>Amit</td>\n",
       "      <td>78</td>\n",
       "      <td>65</td>\n",
       "      <td>89</td>\n",
       "      <td>232</td>\n",
       "      <td>77.333333</td>\n",
       "    </tr>\n",
       "    <tr>\n",
       "      <th>1</th>\n",
       "      <td>Bhavin</td>\n",
       "      <td>90</td>\n",
       "      <td>88</td>\n",
       "      <td>76</td>\n",
       "      <td>254</td>\n",
       "      <td>84.666667</td>\n",
       "    </tr>\n",
       "    <tr>\n",
       "      <th>2</th>\n",
       "      <td>Charu</td>\n",
       "      <td>55</td>\n",
       "      <td>45</td>\n",
       "      <td>67</td>\n",
       "      <td>167</td>\n",
       "      <td>55.666667</td>\n",
       "    </tr>\n",
       "    <tr>\n",
       "      <th>3</th>\n",
       "      <td>Divya</td>\n",
       "      <td>92</td>\n",
       "      <td>95</td>\n",
       "      <td>98</td>\n",
       "      <td>285</td>\n",
       "      <td>95.000000</td>\n",
       "    </tr>\n",
       "    <tr>\n",
       "      <th>4</th>\n",
       "      <td>Ekta</td>\n",
       "      <td>40</td>\n",
       "      <td>55</td>\n",
       "      <td>34</td>\n",
       "      <td>129</td>\n",
       "      <td>43.000000</td>\n",
       "    </tr>\n",
       "  </tbody>\n",
       "</table>\n",
       "</div>"
      ],
      "text/plain": [
       "     Name  Maths  Science  English  Total  Percentage\n",
       "0    Amit     78       65       89    232   77.333333\n",
       "1  Bhavin     90       88       76    254   84.666667\n",
       "2   Charu     55       45       67    167   55.666667\n",
       "3   Divya     92       95       98    285   95.000000\n",
       "4    Ekta     40       55       34    129   43.000000"
      ]
     },
     "execution_count": 132,
     "metadata": {},
     "output_type": "execute_result"
    }
   ],
   "source": [
    "df[\"Percentage\"]  = df[\"Total\"] / 3\n",
    "df"
   ]
  },
  {
   "cell_type": "code",
   "execution_count": 133,
   "id": "bd00df29",
   "metadata": {},
   "outputs": [
    {
     "name": "stdout",
     "output_type": "stream",
     "text": [
      "check to mark is grater then 35 :\n",
      "\n",
      "   Maths  Science  English\n",
      "0   True     True     True\n",
      "1   True     True     True\n",
      "2   True     True     True\n",
      "3   True     True     True\n",
      "4   True     True    False \n",
      "\n",
      "check to mark is grater then 35 depend on row's :\n",
      "\n",
      "0     True\n",
      "1     True\n",
      "2     True\n",
      "3     True\n",
      "4    False\n",
      "dtype: bool \n",
      "\n",
      "check to mark is grater then 35 depend on row's and pass and fail depend on mark's :\n",
      "\n",
      "0    PASS\n",
      "1    PASS\n",
      "2    PASS\n",
      "3    PASS\n",
      "4    FAIL\n",
      "dtype: object\n"
     ]
    }
   ],
   "source": [
    "### Define Pass/Fail (pass if all subjects >= 35) \n",
    "\n",
    "# ge means greater than or equal to (>=).\n",
    "# Returns a boolean DataFrame (True/False values).\n",
    "print(\"check to mark is grater then 35 :\\n\")\n",
    "print(df[[\"Maths\",\"Science\",\"English\"]].ge(35),\"\\n\")\n",
    "\n",
    "# all(axis=1) checks if all values in a row are True.\n",
    "# axis=1 means check row-wise (student-wise).\n",
    "# If one subject is below 35 → result becomes False.\n",
    "print(\"check to mark is grater then 35 depend on row's :\\n\")\n",
    "print(df[[\"Maths\",\"Science\",\"English\"]].ge(35).all(axis=1),\"\\n\")\n",
    "\n",
    "# Converts True/False into \"Pass\" or \"Fail\"\n",
    "# map() replaces each boolean with a string according to the dictionary\n",
    "print(\"check to mark is grater then 35 depend on row's and pass and fail depend on mark's :\\n\")\n",
    "print(df[[\"Maths\",\"Science\",\"English\"]].ge(35).all(axis=1).map({True:\"PASS\",False:\"FAIL\"}))"
   ]
  },
  {
   "cell_type": "code",
   "execution_count": 134,
   "id": "ee99c479",
   "metadata": {},
   "outputs": [
    {
     "data": {
      "text/html": [
       "<div>\n",
       "<style scoped>\n",
       "    .dataframe tbody tr th:only-of-type {\n",
       "        vertical-align: middle;\n",
       "    }\n",
       "\n",
       "    .dataframe tbody tr th {\n",
       "        vertical-align: top;\n",
       "    }\n",
       "\n",
       "    .dataframe thead th {\n",
       "        text-align: right;\n",
       "    }\n",
       "</style>\n",
       "<table border=\"1\" class=\"dataframe\">\n",
       "  <thead>\n",
       "    <tr style=\"text-align: right;\">\n",
       "      <th></th>\n",
       "      <th>Name</th>\n",
       "      <th>Maths</th>\n",
       "      <th>Science</th>\n",
       "      <th>English</th>\n",
       "      <th>Total</th>\n",
       "      <th>Percentage</th>\n",
       "      <th>Result</th>\n",
       "    </tr>\n",
       "  </thead>\n",
       "  <tbody>\n",
       "    <tr>\n",
       "      <th>0</th>\n",
       "      <td>Amit</td>\n",
       "      <td>78</td>\n",
       "      <td>65</td>\n",
       "      <td>89</td>\n",
       "      <td>232</td>\n",
       "      <td>77.333333</td>\n",
       "      <td>PASS</td>\n",
       "    </tr>\n",
       "    <tr>\n",
       "      <th>1</th>\n",
       "      <td>Bhavin</td>\n",
       "      <td>90</td>\n",
       "      <td>88</td>\n",
       "      <td>76</td>\n",
       "      <td>254</td>\n",
       "      <td>84.666667</td>\n",
       "      <td>PASS</td>\n",
       "    </tr>\n",
       "    <tr>\n",
       "      <th>2</th>\n",
       "      <td>Charu</td>\n",
       "      <td>55</td>\n",
       "      <td>45</td>\n",
       "      <td>67</td>\n",
       "      <td>167</td>\n",
       "      <td>55.666667</td>\n",
       "      <td>PASS</td>\n",
       "    </tr>\n",
       "    <tr>\n",
       "      <th>3</th>\n",
       "      <td>Divya</td>\n",
       "      <td>92</td>\n",
       "      <td>95</td>\n",
       "      <td>98</td>\n",
       "      <td>285</td>\n",
       "      <td>95.000000</td>\n",
       "      <td>PASS</td>\n",
       "    </tr>\n",
       "    <tr>\n",
       "      <th>4</th>\n",
       "      <td>Ekta</td>\n",
       "      <td>40</td>\n",
       "      <td>55</td>\n",
       "      <td>34</td>\n",
       "      <td>129</td>\n",
       "      <td>43.000000</td>\n",
       "      <td>FAIL</td>\n",
       "    </tr>\n",
       "  </tbody>\n",
       "</table>\n",
       "</div>"
      ],
      "text/plain": [
       "     Name  Maths  Science  English  Total  Percentage Result\n",
       "0    Amit     78       65       89    232   77.333333   PASS\n",
       "1  Bhavin     90       88       76    254   84.666667   PASS\n",
       "2   Charu     55       45       67    167   55.666667   PASS\n",
       "3   Divya     92       95       98    285   95.000000   PASS\n",
       "4    Ekta     40       55       34    129   43.000000   FAIL"
      ]
     },
     "execution_count": 134,
     "metadata": {},
     "output_type": "execute_result"
    }
   ],
   "source": [
    "df[\"Result\"] = df[[\"Maths\",\"Science\",\"English\"]].ge(35).all(axis=1).map({True:\"PASS\",False:\"FAIL\"})\n",
    "df"
   ]
  },
  {
   "cell_type": "code",
   "execution_count": 135,
   "id": "cbb2bee9",
   "metadata": {},
   "outputs": [
    {
     "data": {
      "text/plain": [
       "Name          Divya\n",
       "Total           285\n",
       "Percentage     95.0\n",
       "Name: 3, dtype: object"
      ]
     },
     "execution_count": 135,
     "metadata": {},
     "output_type": "execute_result"
    }
   ],
   "source": [
    "### Find Topper (by Total marks)\n",
    "# topper = df[\"Percentage\"].idxmax()\n",
    "topper = df.loc[df[\"Total\"].idxmax(),[\"Name\",\"Total\",\"Percentage\"]]\n",
    "topper"
   ]
  },
  {
   "cell_type": "code",
   "execution_count": 136,
   "id": "9a76fc84",
   "metadata": {},
   "outputs": [
    {
     "data": {
      "text/plain": [
       "Maths      71.0\n",
       "Science    69.6\n",
       "English    72.8\n",
       "dtype: float64"
      ]
     },
     "execution_count": 136,
     "metadata": {},
     "output_type": "execute_result"
    }
   ],
   "source": [
    "### Average marks in each subject\n",
    "subject_avg = df[[\"Maths\",\"Science\",\"English\"]].mean()\n",
    "subject_avg"
   ]
  },
  {
   "cell_type": "code",
   "execution_count": 137,
   "id": "19ddc613",
   "metadata": {},
   "outputs": [
    {
     "data": {
      "text/html": [
       "<div>\n",
       "<style scoped>\n",
       "    .dataframe tbody tr th:only-of-type {\n",
       "        vertical-align: middle;\n",
       "    }\n",
       "\n",
       "    .dataframe tbody tr th {\n",
       "        vertical-align: top;\n",
       "    }\n",
       "\n",
       "    .dataframe thead th {\n",
       "        text-align: right;\n",
       "    }\n",
       "</style>\n",
       "<table border=\"1\" class=\"dataframe\">\n",
       "  <thead>\n",
       "    <tr style=\"text-align: right;\">\n",
       "      <th></th>\n",
       "      <th>Name</th>\n",
       "      <th>Subject</th>\n",
       "      <th>Marks</th>\n",
       "    </tr>\n",
       "  </thead>\n",
       "  <tbody>\n",
       "    <tr>\n",
       "      <th>13</th>\n",
       "      <td>Divya</td>\n",
       "      <td>English</td>\n",
       "      <td>98</td>\n",
       "    </tr>\n",
       "    <tr>\n",
       "      <th>3</th>\n",
       "      <td>Divya</td>\n",
       "      <td>Maths</td>\n",
       "      <td>92</td>\n",
       "    </tr>\n",
       "    <tr>\n",
       "      <th>8</th>\n",
       "      <td>Divya</td>\n",
       "      <td>Science</td>\n",
       "      <td>95</td>\n",
       "    </tr>\n",
       "  </tbody>\n",
       "</table>\n",
       "</div>"
      ],
      "text/plain": [
       "     Name  Subject  Marks\n",
       "13  Divya  English     98\n",
       "3   Divya    Maths     92\n",
       "8   Divya  Science     95"
      ]
     },
     "execution_count": 137,
     "metadata": {},
     "output_type": "execute_result"
    }
   ],
   "source": [
    "### Subject-wise topper (Pivot Table)\n",
    "# pd.melt() is used to unpivot a DataFrame — it converts wide format into long format.\n",
    "# Wide format → subjects are separate columns.\n",
    "# Long format → all subjects come under one column, and marks go into another.\n",
    "\n",
    "subject_toppers = df.melt(id_vars=\"Name\", value_vars=[\"Maths\", \"Science\", \"English\"],var_name=\"Subject\", value_name=\"Marks\")\n",
    "# drop_duplicates() funciton is is drop duplicates record's\n",
    "pivot = subject_toppers.sort_values([\"Subject\",\"Marks\"], ascending=[True,False]).drop_duplicates(\"Subject\") \n",
    "pivot"
   ]
  },
  {
   "cell_type": "code",
   "execution_count": 138,
   "id": "9c8d42c0",
   "metadata": {},
   "outputs": [
    {
     "name": "stdout",
     "output_type": "stream",
     "text": [
      "--- student result ---\n"
     ]
    },
    {
     "data": {
      "text/html": [
       "<div>\n",
       "<style scoped>\n",
       "    .dataframe tbody tr th:only-of-type {\n",
       "        vertical-align: middle;\n",
       "    }\n",
       "\n",
       "    .dataframe tbody tr th {\n",
       "        vertical-align: top;\n",
       "    }\n",
       "\n",
       "    .dataframe thead th {\n",
       "        text-align: right;\n",
       "    }\n",
       "</style>\n",
       "<table border=\"1\" class=\"dataframe\">\n",
       "  <thead>\n",
       "    <tr style=\"text-align: right;\">\n",
       "      <th></th>\n",
       "      <th>Name</th>\n",
       "      <th>Maths</th>\n",
       "      <th>Science</th>\n",
       "      <th>English</th>\n",
       "      <th>Total</th>\n",
       "      <th>Percentage</th>\n",
       "      <th>Result</th>\n",
       "    </tr>\n",
       "  </thead>\n",
       "  <tbody>\n",
       "    <tr>\n",
       "      <th>0</th>\n",
       "      <td>Amit</td>\n",
       "      <td>78</td>\n",
       "      <td>65</td>\n",
       "      <td>89</td>\n",
       "      <td>232</td>\n",
       "      <td>77.333333</td>\n",
       "      <td>PASS</td>\n",
       "    </tr>\n",
       "    <tr>\n",
       "      <th>1</th>\n",
       "      <td>Bhavin</td>\n",
       "      <td>90</td>\n",
       "      <td>88</td>\n",
       "      <td>76</td>\n",
       "      <td>254</td>\n",
       "      <td>84.666667</td>\n",
       "      <td>PASS</td>\n",
       "    </tr>\n",
       "    <tr>\n",
       "      <th>2</th>\n",
       "      <td>Charu</td>\n",
       "      <td>55</td>\n",
       "      <td>45</td>\n",
       "      <td>67</td>\n",
       "      <td>167</td>\n",
       "      <td>55.666667</td>\n",
       "      <td>PASS</td>\n",
       "    </tr>\n",
       "    <tr>\n",
       "      <th>3</th>\n",
       "      <td>Divya</td>\n",
       "      <td>92</td>\n",
       "      <td>95</td>\n",
       "      <td>98</td>\n",
       "      <td>285</td>\n",
       "      <td>95.000000</td>\n",
       "      <td>PASS</td>\n",
       "    </tr>\n",
       "    <tr>\n",
       "      <th>4</th>\n",
       "      <td>Ekta</td>\n",
       "      <td>40</td>\n",
       "      <td>55</td>\n",
       "      <td>34</td>\n",
       "      <td>129</td>\n",
       "      <td>43.000000</td>\n",
       "      <td>FAIL</td>\n",
       "    </tr>\n",
       "  </tbody>\n",
       "</table>\n",
       "</div>"
      ],
      "text/plain": [
       "     Name  Maths  Science  English  Total  Percentage Result\n",
       "0    Amit     78       65       89    232   77.333333   PASS\n",
       "1  Bhavin     90       88       76    254   84.666667   PASS\n",
       "2   Charu     55       45       67    167   55.666667   PASS\n",
       "3   Divya     92       95       98    285   95.000000   PASS\n",
       "4    Ekta     40       55       34    129   43.000000   FAIL"
      ]
     },
     "execution_count": 138,
     "metadata": {},
     "output_type": "execute_result"
    }
   ],
   "source": [
    "print(\"--- student result ---\")\n",
    "df"
   ]
  },
  {
   "cell_type": "code",
   "execution_count": 139,
   "id": "31491a6e",
   "metadata": {},
   "outputs": [
    {
     "name": "stdout",
     "output_type": "stream",
     "text": [
      "\n",
      "--- Topper ---\n",
      "Name: Divya, Total: 285\n"
     ]
    }
   ],
   "source": [
    "print(\"\\n--- Topper ---\")\n",
    "print(f\"Name: {topper['Name']}, Total: {topper['Total']}\")"
   ]
  },
  {
   "cell_type": "code",
   "execution_count": 140,
   "id": "ed22577e",
   "metadata": {},
   "outputs": [
    {
     "name": "stdout",
     "output_type": "stream",
     "text": [
      "\n",
      "--- Subject Averages ---\n",
      "Maths      71.0\n",
      "Science    69.6\n",
      "English    72.8\n",
      "dtype: float64\n"
     ]
    }
   ],
   "source": [
    "print(\"\\n--- Subject Averages ---\")\n",
    "print(subject_avg)"
   ]
  },
  {
   "cell_type": "code",
   "execution_count": 141,
   "id": "318d3ccb",
   "metadata": {},
   "outputs": [
    {
     "name": "stdout",
     "output_type": "stream",
     "text": [
      "\n",
      "--- Subject-wise Toppers ---\n",
      "    Subject   Name  Marks\n",
      "13  English  Divya     98\n",
      "3     Maths  Divya     92\n",
      "8   Science  Divya     95\n"
     ]
    }
   ],
   "source": [
    "print(\"\\n--- Subject-wise Toppers ---\")\n",
    "print(pivot[[\"Subject\",\"Name\",\"Marks\"]])"
   ]
  }
 ],
 "metadata": {
  "kernelspec": {
   "display_name": "venv",
   "language": "python",
   "name": "python3"
  },
  "language_info": {
   "codemirror_mode": {
    "name": "ipython",
    "version": 3
   },
   "file_extension": ".py",
   "mimetype": "text/x-python",
   "name": "python",
   "nbconvert_exporter": "python",
   "pygments_lexer": "ipython3",
   "version": "3.13.3"
  }
 },
 "nbformat": 4,
 "nbformat_minor": 5
}
