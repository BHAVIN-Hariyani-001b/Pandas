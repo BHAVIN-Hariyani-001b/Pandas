{
 "cells": [
  {
   "cell_type": "code",
   "execution_count": 1,
   "id": "f4fa1385",
   "metadata": {},
   "outputs": [],
   "source": [
    "import pandas as pd"
   ]
  },
  {
   "cell_type": "code",
   "execution_count": null,
   "id": "8fbfd592",
   "metadata": {},
   "outputs": [
    {
     "data": {
      "text/html": [
       "<div>\n",
       "<style scoped>\n",
       "    .dataframe tbody tr th:only-of-type {\n",
       "        vertical-align: middle;\n",
       "    }\n",
       "\n",
       "    .dataframe tbody tr th {\n",
       "        vertical-align: top;\n",
       "    }\n",
       "\n",
       "    .dataframe thead th {\n",
       "        text-align: right;\n",
       "    }\n",
       "</style>\n",
       "<table border=\"1\" class=\"dataframe\">\n",
       "  <thead>\n",
       "    <tr style=\"text-align: right;\">\n",
       "      <th></th>\n",
       "      <th>Name</th>\n",
       "      <th>Age</th>\n",
       "      <th>Salary</th>\n",
       "      <th>City</th>\n",
       "      <th>Performance Score</th>\n",
       "    </tr>\n",
       "  </thead>\n",
       "  <tbody>\n",
       "    <tr>\n",
       "      <th>0</th>\n",
       "      <td>Ram</td>\n",
       "      <td>10.0</td>\n",
       "      <td>50000.0</td>\n",
       "      <td>Nagpur</td>\n",
       "      <td>90.0</td>\n",
       "    </tr>\n",
       "    <tr>\n",
       "      <th>1</th>\n",
       "      <td>Shyam</td>\n",
       "      <td>NaN</td>\n",
       "      <td>NaN</td>\n",
       "      <td>Mumbai</td>\n",
       "      <td>NaN</td>\n",
       "    </tr>\n",
       "    <tr>\n",
       "      <th>2</th>\n",
       "      <td>Ghanshyam</td>\n",
       "      <td>30.0</td>\n",
       "      <td>70000.0</td>\n",
       "      <td>Delhi</td>\n",
       "      <td>65.0</td>\n",
       "    </tr>\n",
       "    <tr>\n",
       "      <th>3</th>\n",
       "      <td>Krishna</td>\n",
       "      <td>40.0</td>\n",
       "      <td>80000.0</td>\n",
       "      <td>Pune</td>\n",
       "      <td>76.0</td>\n",
       "    </tr>\n",
       "    <tr>\n",
       "      <th>4</th>\n",
       "      <td>Arjun</td>\n",
       "      <td>50.0</td>\n",
       "      <td>90000.0</td>\n",
       "      <td>Bangalore</td>\n",
       "      <td>87.0</td>\n",
       "    </tr>\n",
       "    <tr>\n",
       "      <th>5</th>\n",
       "      <td>Karna</td>\n",
       "      <td>60.0</td>\n",
       "      <td>100000.0</td>\n",
       "      <td>Kolkata</td>\n",
       "      <td>34.0</td>\n",
       "    </tr>\n",
       "    <tr>\n",
       "      <th>6</th>\n",
       "      <td>Sita</td>\n",
       "      <td>70.0</td>\n",
       "      <td>110000.0</td>\n",
       "      <td>Chennai</td>\n",
       "      <td>76.0</td>\n",
       "    </tr>\n",
       "    <tr>\n",
       "      <th>7</th>\n",
       "      <td>Radh</td>\n",
       "      <td>80.0</td>\n",
       "      <td>120000.0</td>\n",
       "      <td>Ahmedabad</td>\n",
       "      <td>100.0</td>\n",
       "    </tr>\n",
       "  </tbody>\n",
       "</table>\n",
       "</div>"
      ],
      "text/plain": [
       "        Name   Age    Salary       City  Performance Score\n",
       "0        Ram  10.0   50000.0     Nagpur               90.0\n",
       "1      Shyam   NaN       NaN     Mumbai                NaN\n",
       "2  Ghanshyam  30.0   70000.0      Delhi               65.0\n",
       "3    Krishna  40.0   80000.0       Pune               76.0\n",
       "4      Arjun  50.0   90000.0  Bangalore               87.0\n",
       "5      Karna  60.0  100000.0    Kolkata               34.0\n",
       "6       Sita  70.0  110000.0    Chennai               76.0\n",
       "7       Radh  80.0  120000.0  Ahmedabad              100.0"
      ]
     },
     "execution_count": 4,
     "metadata": {},
     "output_type": "execute_result"
    }
   ],
   "source": [
    "data = {\n",
    "    \"Name\":[\"Ram\",\"Shyam\",\"Ghanshyam\",\"Krishna\",\"Arjun\",\"Karna\",\"Sita\",\"Radh\"],\n",
    "    \"Age\":[10,None,30,40,50,60,70,80],\n",
    "    \"Salary\":[50000,60000,70000,80000,90000,100000,110000,120000],\n",
    "    \"City\":[\"Nagpur\",\"Mumbai\",\"Delhi\",\"Pune\",\"Bangalore\",\"Kolkata\",\"Chennai\",\"Ahmedabad\"],\n",
    "    \"Performance Score\":[90,90,65,76,87,34,76,100]\n",
    "}\n",
    "\n",
    "df = pd.DataFrame(data)\n",
    "df"
   ]
  },
  {
   "cell_type": "code",
   "execution_count": 16,
   "id": "6bebeb67",
   "metadata": {},
   "outputs": [
    {
     "name": "stdout",
     "output_type": "stream",
     "text": [
      "49\n",
      "120000\n",
      "50000\n",
      "620000\n"
     ]
    }
   ],
   "source": [
    "print(round(df[\"Age\"].mean())) # mean of salary find\n",
    "print(round(df[\"Salary\"].max()))\n",
    "print(round(df[\"Salary\"].min()))\n",
    "print(round(df[\"Salary\"].sum()))"
   ]
  }
 ],
 "metadata": {
  "kernelspec": {
   "display_name": "venv",
   "language": "python",
   "name": "python3"
  },
  "language_info": {
   "codemirror_mode": {
    "name": "ipython",
    "version": 3
   },
   "file_extension": ".py",
   "mimetype": "text/x-python",
   "name": "python",
   "nbconvert_exporter": "python",
   "pygments_lexer": "ipython3",
   "version": "3.13.3"
  }
 },
 "nbformat": 4,
 "nbformat_minor": 5
}
