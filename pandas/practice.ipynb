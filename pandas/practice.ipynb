{
 "cells": [
  {
   "cell_type": "code",
   "execution_count": 2,
   "id": "affbe806",
   "metadata": {},
   "outputs": [],
   "source": [
    "import pandas as pd\n",
    "import numpy as np"
   ]
  },
  {
   "cell_type": "code",
   "execution_count": 3,
   "id": "c199b1c9",
   "metadata": {},
   "outputs": [
    {
     "data": {
      "text/plain": [
       "0    11\n",
       "1    12\n",
       "2    13\n",
       "3    14\n",
       "4    15\n",
       "5    16\n",
       "6    17\n",
       "7    18\n",
       "8    19\n",
       "dtype: int64"
      ]
     },
     "execution_count": 3,
     "metadata": {},
     "output_type": "execute_result"
    }
   ],
   "source": [
    "# create serise\n",
    "df = pd.Series(np.arange(11,20))\n",
    "df"
   ]
  },
  {
   "cell_type": "code",
   "execution_count": 4,
   "id": "8f8f0490",
   "metadata": {},
   "outputs": [
    {
     "data": {
      "text/html": [
       "<div>\n",
       "<style scoped>\n",
       "    .dataframe tbody tr th:only-of-type {\n",
       "        vertical-align: middle;\n",
       "    }\n",
       "\n",
       "    .dataframe tbody tr th {\n",
       "        vertical-align: top;\n",
       "    }\n",
       "\n",
       "    .dataframe thead th {\n",
       "        text-align: right;\n",
       "    }\n",
       "</style>\n",
       "<table border=\"1\" class=\"dataframe\">\n",
       "  <thead>\n",
       "    <tr style=\"text-align: right;\">\n",
       "      <th></th>\n",
       "      <th>Name</th>\n",
       "      <th>Age</th>\n",
       "    </tr>\n",
       "  </thead>\n",
       "  <tbody>\n",
       "    <tr>\n",
       "      <th>0</th>\n",
       "      <td>Bhavin</td>\n",
       "      <td>45</td>\n",
       "    </tr>\n",
       "    <tr>\n",
       "      <th>1</th>\n",
       "      <td>Anand</td>\n",
       "      <td>65</td>\n",
       "    </tr>\n",
       "    <tr>\n",
       "      <th>2</th>\n",
       "      <td>Sagar</td>\n",
       "      <td>34</td>\n",
       "    </tr>\n",
       "    <tr>\n",
       "      <th>3</th>\n",
       "      <td>Hemal</td>\n",
       "      <td>65</td>\n",
       "    </tr>\n",
       "    <tr>\n",
       "      <th>4</th>\n",
       "      <td>Sagil</td>\n",
       "      <td>76</td>\n",
       "    </tr>\n",
       "    <tr>\n",
       "      <th>5</th>\n",
       "      <td>Abhay</td>\n",
       "      <td>65</td>\n",
       "    </tr>\n",
       "    <tr>\n",
       "      <th>6</th>\n",
       "      <td>Dhaval</td>\n",
       "      <td>34</td>\n",
       "    </tr>\n",
       "  </tbody>\n",
       "</table>\n",
       "</div>"
      ],
      "text/plain": [
       "     Name  Age\n",
       "0  Bhavin   45\n",
       "1   Anand   65\n",
       "2   Sagar   34\n",
       "3   Hemal   65\n",
       "4   Sagil   76\n",
       "5   Abhay   65\n",
       "6  Dhaval   34"
      ]
     },
     "execution_count": 4,
     "metadata": {},
     "output_type": "execute_result"
    }
   ],
   "source": [
    "# create data frame \n",
    "df = pd.DataFrame({\n",
    "    \"Name\":[\"Bhavin\",\"Anand\",\"Sagar\",\"Hemal\",\"Sagil\",\"Abhay\",\"Dhaval\"],\n",
    "    \"Age\":[45,65,34,65,76,65,34]\n",
    "})\n",
    "df"
   ]
  },
  {
   "cell_type": "code",
   "execution_count": 5,
   "id": "3f1236b5",
   "metadata": {},
   "outputs": [
    {
     "data": {
      "text/plain": [
       "DatetimeIndex(['2025-01-01', '2025-01-02', '2025-01-03', '2025-01-04',\n",
       "               '2025-01-05', '2025-01-06'],\n",
       "              dtype='datetime64[ns]', freq='D')"
      ]
     },
     "execution_count": 5,
     "metadata": {},
     "output_type": "execute_result"
    }
   ],
   "source": [
    "# Creating a DataFrame by passing a NumPy array with a datetime index using date_range() and labeled columns:\n",
    "\n",
    "# date_range function \n",
    "dates = pd.date_range(\"20250101\",periods=6)\n",
    "dates"
   ]
  },
  {
   "cell_type": "code",
   "execution_count": 6,
   "id": "a48075f5",
   "metadata": {},
   "outputs": [
    {
     "data": {
      "text/plain": [
       "2025-01-01   -0.828945\n",
       "2025-01-02    0.846814\n",
       "2025-01-03   -0.532373\n",
       "2025-01-04    0.737850\n",
       "2025-01-05    1.890129\n",
       "2025-01-06    0.303328\n",
       "Freq: D, Name: a, dtype: float64"
      ]
     },
     "execution_count": 6,
     "metadata": {},
     "output_type": "execute_result"
    }
   ],
   "source": [
    "df = pd.DataFrame(np.random.randn(6,4),index=dates,columns=list(\"abcd\"))\n",
    "df.a"
   ]
  },
  {
   "cell_type": "code",
   "execution_count": 7,
   "id": "89b0401a",
   "metadata": {},
   "outputs": [
    {
     "data": {
      "text/plain": [
       "a    float64\n",
       "b    float64\n",
       "c    float64\n",
       "d    float64\n",
       "dtype: object"
      ]
     },
     "execution_count": 7,
     "metadata": {},
     "output_type": "execute_result"
    }
   ],
   "source": [
    "# check type's of dataframe\n",
    "df.dtypes"
   ]
  },
  {
   "cell_type": "code",
   "execution_count": 8,
   "id": "3288cbcf",
   "metadata": {},
   "outputs": [
    {
     "data": {
      "text/html": [
       "<div>\n",
       "<style scoped>\n",
       "    .dataframe tbody tr th:only-of-type {\n",
       "        vertical-align: middle;\n",
       "    }\n",
       "\n",
       "    .dataframe tbody tr th {\n",
       "        vertical-align: top;\n",
       "    }\n",
       "\n",
       "    .dataframe thead th {\n",
       "        text-align: right;\n",
       "    }\n",
       "</style>\n",
       "<table border=\"1\" class=\"dataframe\">\n",
       "  <thead>\n",
       "    <tr style=\"text-align: right;\">\n",
       "      <th></th>\n",
       "      <th>Name</th>\n",
       "      <th>Age</th>\n",
       "      <th>Salary</th>\n",
       "      <th>Bonus</th>\n",
       "      <th>Total</th>\n",
       "    </tr>\n",
       "  </thead>\n",
       "  <tbody>\n",
       "    <tr>\n",
       "      <th>0</th>\n",
       "      <td>Bhavin</td>\n",
       "      <td>45</td>\n",
       "      <td>33740</td>\n",
       "      <td>8032</td>\n",
       "      <td>41772</td>\n",
       "    </tr>\n",
       "    <tr>\n",
       "      <th>1</th>\n",
       "      <td>Anand</td>\n",
       "      <td>65</td>\n",
       "      <td>29182</td>\n",
       "      <td>8037</td>\n",
       "      <td>37219</td>\n",
       "    </tr>\n",
       "    <tr>\n",
       "      <th>2</th>\n",
       "      <td>Sagar</td>\n",
       "      <td>34</td>\n",
       "      <td>15372</td>\n",
       "      <td>9032</td>\n",
       "      <td>24404</td>\n",
       "    </tr>\n",
       "    <tr>\n",
       "      <th>3</th>\n",
       "      <td>Hemal</td>\n",
       "      <td>65</td>\n",
       "      <td>45994</td>\n",
       "      <td>5813</td>\n",
       "      <td>51807</td>\n",
       "    </tr>\n",
       "    <tr>\n",
       "      <th>4</th>\n",
       "      <td>Sagil</td>\n",
       "      <td>76</td>\n",
       "      <td>43103</td>\n",
       "      <td>8619</td>\n",
       "      <td>51722</td>\n",
       "    </tr>\n",
       "    <tr>\n",
       "      <th>5</th>\n",
       "      <td>Abhay</td>\n",
       "      <td>65</td>\n",
       "      <td>25503</td>\n",
       "      <td>5275</td>\n",
       "      <td>30778</td>\n",
       "    </tr>\n",
       "    <tr>\n",
       "      <th>6</th>\n",
       "      <td>Dhaval</td>\n",
       "      <td>34</td>\n",
       "      <td>34453</td>\n",
       "      <td>6268</td>\n",
       "      <td>40721</td>\n",
       "    </tr>\n",
       "  </tbody>\n",
       "</table>\n",
       "</div>"
      ],
      "text/plain": [
       "     Name  Age  Salary  Bonus  Total\n",
       "0  Bhavin   45   33740   8032  41772\n",
       "1   Anand   65   29182   8037  37219\n",
       "2   Sagar   34   15372   9032  24404\n",
       "3   Hemal   65   45994   5813  51807\n",
       "4   Sagil   76   43103   8619  51722\n",
       "5   Abhay   65   25503   5275  30778\n",
       "6  Dhaval   34   34453   6268  40721"
      ]
     },
     "execution_count": 8,
     "metadata": {},
     "output_type": "execute_result"
    }
   ],
   "source": [
    "df = pd.DataFrame({\n",
    "    \"Name\":[\"Bhavin\",\"Anand\",\"Sagar\",\"Hemal\",\"Sagil\",\"Abhay\",\"Dhaval\"],\n",
    "    \"Age\":[45,65,34,65,76,65,34],\n",
    "    \"Salary\":[np.random.randint(10000,50000) for i in range(7)],\n",
    "    \"Bonus\":[np.random.randint(5000,10000) for i in range(7)],\n",
    "})\n",
    "df[\"Total\"] = df[\"Salary\"] + df[\"Bonus\"]\n",
    "df\n"
   ]
  },
  {
   "cell_type": "code",
   "execution_count": 9,
   "id": "54125b9d",
   "metadata": {},
   "outputs": [
    {
     "data": {
      "text/html": [
       "<div>\n",
       "<style scoped>\n",
       "    .dataframe tbody tr th:only-of-type {\n",
       "        vertical-align: middle;\n",
       "    }\n",
       "\n",
       "    .dataframe tbody tr th {\n",
       "        vertical-align: top;\n",
       "    }\n",
       "\n",
       "    .dataframe thead th {\n",
       "        text-align: right;\n",
       "    }\n",
       "</style>\n",
       "<table border=\"1\" class=\"dataframe\">\n",
       "  <thead>\n",
       "    <tr style=\"text-align: right;\">\n",
       "      <th></th>\n",
       "      <th>Name</th>\n",
       "      <th>Age</th>\n",
       "      <th>Salary</th>\n",
       "      <th>Bonus</th>\n",
       "      <th>Total</th>\n",
       "    </tr>\n",
       "  </thead>\n",
       "  <tbody>\n",
       "    <tr>\n",
       "      <th>0</th>\n",
       "      <td>Bhavin</td>\n",
       "      <td>45</td>\n",
       "      <td>33740</td>\n",
       "      <td>8032</td>\n",
       "      <td>41772</td>\n",
       "    </tr>\n",
       "    <tr>\n",
       "      <th>1</th>\n",
       "      <td>Anand</td>\n",
       "      <td>65</td>\n",
       "      <td>29182</td>\n",
       "      <td>8037</td>\n",
       "      <td>37219</td>\n",
       "    </tr>\n",
       "    <tr>\n",
       "      <th>2</th>\n",
       "      <td>Sagar</td>\n",
       "      <td>34</td>\n",
       "      <td>15372</td>\n",
       "      <td>9032</td>\n",
       "      <td>24404</td>\n",
       "    </tr>\n",
       "    <tr>\n",
       "      <th>3</th>\n",
       "      <td>Hemal</td>\n",
       "      <td>65</td>\n",
       "      <td>45994</td>\n",
       "      <td>5813</td>\n",
       "      <td>51807</td>\n",
       "    </tr>\n",
       "    <tr>\n",
       "      <th>4</th>\n",
       "      <td>Sagil</td>\n",
       "      <td>76</td>\n",
       "      <td>43103</td>\n",
       "      <td>8619</td>\n",
       "      <td>51722</td>\n",
       "    </tr>\n",
       "  </tbody>\n",
       "</table>\n",
       "</div>"
      ],
      "text/plain": [
       "     Name  Age  Salary  Bonus  Total\n",
       "0  Bhavin   45   33740   8032  41772\n",
       "1   Anand   65   29182   8037  37219\n",
       "2   Sagar   34   15372   9032  24404\n",
       "3   Hemal   65   45994   5813  51807\n",
       "4   Sagil   76   43103   8619  51722"
      ]
     },
     "execution_count": 9,
     "metadata": {},
     "output_type": "execute_result"
    }
   ],
   "source": [
    "# Use DataFrame.head() and DataFrame.tail() to view the top and bottom rows of the frame respectively\n",
    "\n",
    "df.head() # it pass value or by default return row's"
   ]
  },
  {
   "cell_type": "code",
   "execution_count": 10,
   "id": "194b60f8",
   "metadata": {},
   "outputs": [
    {
     "data": {
      "text/html": [
       "<div>\n",
       "<style scoped>\n",
       "    .dataframe tbody tr th:only-of-type {\n",
       "        vertical-align: middle;\n",
       "    }\n",
       "\n",
       "    .dataframe tbody tr th {\n",
       "        vertical-align: top;\n",
       "    }\n",
       "\n",
       "    .dataframe thead th {\n",
       "        text-align: right;\n",
       "    }\n",
       "</style>\n",
       "<table border=\"1\" class=\"dataframe\">\n",
       "  <thead>\n",
       "    <tr style=\"text-align: right;\">\n",
       "      <th></th>\n",
       "      <th>Name</th>\n",
       "      <th>Age</th>\n",
       "      <th>Salary</th>\n",
       "      <th>Bonus</th>\n",
       "      <th>Total</th>\n",
       "    </tr>\n",
       "  </thead>\n",
       "  <tbody>\n",
       "    <tr>\n",
       "      <th>2</th>\n",
       "      <td>Sagar</td>\n",
       "      <td>34</td>\n",
       "      <td>15372</td>\n",
       "      <td>9032</td>\n",
       "      <td>24404</td>\n",
       "    </tr>\n",
       "    <tr>\n",
       "      <th>3</th>\n",
       "      <td>Hemal</td>\n",
       "      <td>65</td>\n",
       "      <td>45994</td>\n",
       "      <td>5813</td>\n",
       "      <td>51807</td>\n",
       "    </tr>\n",
       "    <tr>\n",
       "      <th>4</th>\n",
       "      <td>Sagil</td>\n",
       "      <td>76</td>\n",
       "      <td>43103</td>\n",
       "      <td>8619</td>\n",
       "      <td>51722</td>\n",
       "    </tr>\n",
       "    <tr>\n",
       "      <th>5</th>\n",
       "      <td>Abhay</td>\n",
       "      <td>65</td>\n",
       "      <td>25503</td>\n",
       "      <td>5275</td>\n",
       "      <td>30778</td>\n",
       "    </tr>\n",
       "    <tr>\n",
       "      <th>6</th>\n",
       "      <td>Dhaval</td>\n",
       "      <td>34</td>\n",
       "      <td>34453</td>\n",
       "      <td>6268</td>\n",
       "      <td>40721</td>\n",
       "    </tr>\n",
       "  </tbody>\n",
       "</table>\n",
       "</div>"
      ],
      "text/plain": [
       "     Name  Age  Salary  Bonus  Total\n",
       "2   Sagar   34   15372   9032  24404\n",
       "3   Hemal   65   45994   5813  51807\n",
       "4   Sagil   76   43103   8619  51722\n",
       "5   Abhay   65   25503   5275  30778\n",
       "6  Dhaval   34   34453   6268  40721"
      ]
     },
     "execution_count": 10,
     "metadata": {},
     "output_type": "execute_result"
    }
   ],
   "source": [
    "df.tail() # it same like head but it is return buttom row's"
   ]
  },
  {
   "cell_type": "code",
   "execution_count": 11,
   "id": "2cc976ad",
   "metadata": {},
   "outputs": [
    {
     "name": "stdout",
     "output_type": "stream",
     "text": [
      "RangeIndex(start=0, stop=7, step=1)\n"
     ]
    },
    {
     "data": {
      "text/plain": [
       "Index(['Name', 'Age', 'Salary', 'Bonus', 'Total'], dtype='object')"
      ]
     },
     "execution_count": 11,
     "metadata": {},
     "output_type": "execute_result"
    }
   ],
   "source": [
    "print(df.index) # index is return to index of dataframe \n",
    "df.columns # column is return to column of data frame "
   ]
  },
  {
   "cell_type": "code",
   "execution_count": 12,
   "id": "82545313",
   "metadata": {},
   "outputs": [
    {
     "data": {
      "text/plain": [
       "array([['Bhavin', 45, 33740, 8032, 41772],\n",
       "       ['Anand', 65, 29182, 8037, 37219],\n",
       "       ['Sagar', 34, 15372, 9032, 24404],\n",
       "       ['Hemal', 65, 45994, 5813, 51807],\n",
       "       ['Sagil', 76, 43103, 8619, 51722],\n",
       "       ['Abhay', 65, 25503, 5275, 30778],\n",
       "       ['Dhaval', 34, 34453, 6268, 40721]], dtype=object)"
      ]
     },
     "execution_count": 12,
     "metadata": {},
     "output_type": "execute_result"
    }
   ],
   "source": [
    "# Return a NumPy representation of the underlying data with DataFrame.to_numpy() without the index or column labels:\n",
    "df.to_numpy() "
   ]
  },
  {
   "cell_type": "code",
   "execution_count": 13,
   "id": "ab11271c",
   "metadata": {},
   "outputs": [
    {
     "data": {
      "text/html": [
       "<div>\n",
       "<style scoped>\n",
       "    .dataframe tbody tr th:only-of-type {\n",
       "        vertical-align: middle;\n",
       "    }\n",
       "\n",
       "    .dataframe tbody tr th {\n",
       "        vertical-align: top;\n",
       "    }\n",
       "\n",
       "    .dataframe thead th {\n",
       "        text-align: right;\n",
       "    }\n",
       "</style>\n",
       "<table border=\"1\" class=\"dataframe\">\n",
       "  <thead>\n",
       "    <tr style=\"text-align: right;\">\n",
       "      <th></th>\n",
       "      <th>Age</th>\n",
       "      <th>Salary</th>\n",
       "      <th>Bonus</th>\n",
       "      <th>Total</th>\n",
       "    </tr>\n",
       "  </thead>\n",
       "  <tbody>\n",
       "    <tr>\n",
       "      <th>count</th>\n",
       "      <td>7.000000</td>\n",
       "      <td>7.000000</td>\n",
       "      <td>7.000000</td>\n",
       "      <td>7.000000</td>\n",
       "    </tr>\n",
       "    <tr>\n",
       "      <th>mean</th>\n",
       "      <td>54.857143</td>\n",
       "      <td>32478.142857</td>\n",
       "      <td>7296.571429</td>\n",
       "      <td>39774.714286</td>\n",
       "    </tr>\n",
       "    <tr>\n",
       "      <th>std</th>\n",
       "      <td>16.945290</td>\n",
       "      <td>10433.884119</td>\n",
       "      <td>1482.976383</td>\n",
       "      <td>10133.521463</td>\n",
       "    </tr>\n",
       "    <tr>\n",
       "      <th>min</th>\n",
       "      <td>34.000000</td>\n",
       "      <td>15372.000000</td>\n",
       "      <td>5275.000000</td>\n",
       "      <td>24404.000000</td>\n",
       "    </tr>\n",
       "    <tr>\n",
       "      <th>25%</th>\n",
       "      <td>39.500000</td>\n",
       "      <td>27342.500000</td>\n",
       "      <td>6040.500000</td>\n",
       "      <td>33998.500000</td>\n",
       "    </tr>\n",
       "    <tr>\n",
       "      <th>50%</th>\n",
       "      <td>65.000000</td>\n",
       "      <td>33740.000000</td>\n",
       "      <td>8032.000000</td>\n",
       "      <td>40721.000000</td>\n",
       "    </tr>\n",
       "    <tr>\n",
       "      <th>75%</th>\n",
       "      <td>65.000000</td>\n",
       "      <td>38778.000000</td>\n",
       "      <td>8328.000000</td>\n",
       "      <td>46747.000000</td>\n",
       "    </tr>\n",
       "    <tr>\n",
       "      <th>max</th>\n",
       "      <td>76.000000</td>\n",
       "      <td>45994.000000</td>\n",
       "      <td>9032.000000</td>\n",
       "      <td>51807.000000</td>\n",
       "    </tr>\n",
       "  </tbody>\n",
       "</table>\n",
       "</div>"
      ],
      "text/plain": [
       "             Age        Salary        Bonus         Total\n",
       "count   7.000000      7.000000     7.000000      7.000000\n",
       "mean   54.857143  32478.142857  7296.571429  39774.714286\n",
       "std    16.945290  10433.884119  1482.976383  10133.521463\n",
       "min    34.000000  15372.000000  5275.000000  24404.000000\n",
       "25%    39.500000  27342.500000  6040.500000  33998.500000\n",
       "50%    65.000000  33740.000000  8032.000000  40721.000000\n",
       "75%    65.000000  38778.000000  8328.000000  46747.000000\n",
       "max    76.000000  45994.000000  9032.000000  51807.000000"
      ]
     },
     "execution_count": 13,
     "metadata": {},
     "output_type": "execute_result"
    }
   ],
   "source": [
    "# describe() shows a quick statistic summary of your data:\n",
    "df.describe()"
   ]
  },
  {
   "cell_type": "code",
   "execution_count": 14,
   "id": "93c07df7",
   "metadata": {},
   "outputs": [
    {
     "data": {
      "text/html": [
       "<div>\n",
       "<style scoped>\n",
       "    .dataframe tbody tr th:only-of-type {\n",
       "        vertical-align: middle;\n",
       "    }\n",
       "\n",
       "    .dataframe tbody tr th {\n",
       "        vertical-align: top;\n",
       "    }\n",
       "\n",
       "    .dataframe thead th {\n",
       "        text-align: right;\n",
       "    }\n",
       "</style>\n",
       "<table border=\"1\" class=\"dataframe\">\n",
       "  <thead>\n",
       "    <tr style=\"text-align: right;\">\n",
       "      <th></th>\n",
       "      <th>0</th>\n",
       "      <th>1</th>\n",
       "      <th>2</th>\n",
       "      <th>3</th>\n",
       "      <th>4</th>\n",
       "      <th>5</th>\n",
       "      <th>6</th>\n",
       "    </tr>\n",
       "  </thead>\n",
       "  <tbody>\n",
       "    <tr>\n",
       "      <th>Name</th>\n",
       "      <td>Bhavin</td>\n",
       "      <td>Anand</td>\n",
       "      <td>Sagar</td>\n",
       "      <td>Hemal</td>\n",
       "      <td>Sagil</td>\n",
       "      <td>Abhay</td>\n",
       "      <td>Dhaval</td>\n",
       "    </tr>\n",
       "    <tr>\n",
       "      <th>Age</th>\n",
       "      <td>45</td>\n",
       "      <td>65</td>\n",
       "      <td>34</td>\n",
       "      <td>65</td>\n",
       "      <td>76</td>\n",
       "      <td>65</td>\n",
       "      <td>34</td>\n",
       "    </tr>\n",
       "    <tr>\n",
       "      <th>Salary</th>\n",
       "      <td>33740</td>\n",
       "      <td>29182</td>\n",
       "      <td>15372</td>\n",
       "      <td>45994</td>\n",
       "      <td>43103</td>\n",
       "      <td>25503</td>\n",
       "      <td>34453</td>\n",
       "    </tr>\n",
       "    <tr>\n",
       "      <th>Bonus</th>\n",
       "      <td>8032</td>\n",
       "      <td>8037</td>\n",
       "      <td>9032</td>\n",
       "      <td>5813</td>\n",
       "      <td>8619</td>\n",
       "      <td>5275</td>\n",
       "      <td>6268</td>\n",
       "    </tr>\n",
       "    <tr>\n",
       "      <th>Total</th>\n",
       "      <td>41772</td>\n",
       "      <td>37219</td>\n",
       "      <td>24404</td>\n",
       "      <td>51807</td>\n",
       "      <td>51722</td>\n",
       "      <td>30778</td>\n",
       "      <td>40721</td>\n",
       "    </tr>\n",
       "  </tbody>\n",
       "</table>\n",
       "</div>"
      ],
      "text/plain": [
       "             0      1      2      3      4      5       6\n",
       "Name    Bhavin  Anand  Sagar  Hemal  Sagil  Abhay  Dhaval\n",
       "Age         45     65     34     65     76     65      34\n",
       "Salary   33740  29182  15372  45994  43103  25503   34453\n",
       "Bonus     8032   8037   9032   5813   8619   5275    6268\n",
       "Total    41772  37219  24404  51807  51722  30778   40721"
      ]
     },
     "execution_count": 14,
     "metadata": {},
     "output_type": "execute_result"
    }
   ],
   "source": [
    "# ransposing your data:\n",
    "df.T"
   ]
  },
  {
   "cell_type": "code",
   "execution_count": 15,
   "id": "84830738",
   "metadata": {},
   "outputs": [
    {
     "data": {
      "text/html": [
       "<div>\n",
       "<style scoped>\n",
       "    .dataframe tbody tr th:only-of-type {\n",
       "        vertical-align: middle;\n",
       "    }\n",
       "\n",
       "    .dataframe tbody tr th {\n",
       "        vertical-align: top;\n",
       "    }\n",
       "\n",
       "    .dataframe thead th {\n",
       "        text-align: right;\n",
       "    }\n",
       "</style>\n",
       "<table border=\"1\" class=\"dataframe\">\n",
       "  <thead>\n",
       "    <tr style=\"text-align: right;\">\n",
       "      <th></th>\n",
       "      <th>Age</th>\n",
       "      <th>Bonus</th>\n",
       "      <th>Name</th>\n",
       "      <th>Salary</th>\n",
       "      <th>Total</th>\n",
       "    </tr>\n",
       "  </thead>\n",
       "  <tbody>\n",
       "    <tr>\n",
       "      <th>0</th>\n",
       "      <td>45</td>\n",
       "      <td>8032</td>\n",
       "      <td>Bhavin</td>\n",
       "      <td>33740</td>\n",
       "      <td>41772</td>\n",
       "    </tr>\n",
       "    <tr>\n",
       "      <th>1</th>\n",
       "      <td>65</td>\n",
       "      <td>8037</td>\n",
       "      <td>Anand</td>\n",
       "      <td>29182</td>\n",
       "      <td>37219</td>\n",
       "    </tr>\n",
       "    <tr>\n",
       "      <th>2</th>\n",
       "      <td>34</td>\n",
       "      <td>9032</td>\n",
       "      <td>Sagar</td>\n",
       "      <td>15372</td>\n",
       "      <td>24404</td>\n",
       "    </tr>\n",
       "    <tr>\n",
       "      <th>3</th>\n",
       "      <td>65</td>\n",
       "      <td>5813</td>\n",
       "      <td>Hemal</td>\n",
       "      <td>45994</td>\n",
       "      <td>51807</td>\n",
       "    </tr>\n",
       "    <tr>\n",
       "      <th>4</th>\n",
       "      <td>76</td>\n",
       "      <td>8619</td>\n",
       "      <td>Sagil</td>\n",
       "      <td>43103</td>\n",
       "      <td>51722</td>\n",
       "    </tr>\n",
       "    <tr>\n",
       "      <th>5</th>\n",
       "      <td>65</td>\n",
       "      <td>5275</td>\n",
       "      <td>Abhay</td>\n",
       "      <td>25503</td>\n",
       "      <td>30778</td>\n",
       "    </tr>\n",
       "    <tr>\n",
       "      <th>6</th>\n",
       "      <td>34</td>\n",
       "      <td>6268</td>\n",
       "      <td>Dhaval</td>\n",
       "      <td>34453</td>\n",
       "      <td>40721</td>\n",
       "    </tr>\n",
       "  </tbody>\n",
       "</table>\n",
       "</div>"
      ],
      "text/plain": [
       "   Age  Bonus    Name  Salary  Total\n",
       "0   45   8032  Bhavin   33740  41772\n",
       "1   65   8037   Anand   29182  37219\n",
       "2   34   9032   Sagar   15372  24404\n",
       "3   65   5813   Hemal   45994  51807\n",
       "4   76   8619   Sagil   43103  51722\n",
       "5   65   5275   Abhay   25503  30778\n",
       "6   34   6268  Dhaval   34453  40721"
      ]
     },
     "execution_count": 15,
     "metadata": {},
     "output_type": "execute_result"
    }
   ],
   "source": [
    "# DataFrame.sort_index() sorts by an axis:\n",
    "df.sort_index(axis=1,ascending=True)"
   ]
  },
  {
   "cell_type": "code",
   "execution_count": 16,
   "id": "63d02f68",
   "metadata": {},
   "outputs": [
    {
     "data": {
      "text/html": [
       "<div>\n",
       "<style scoped>\n",
       "    .dataframe tbody tr th:only-of-type {\n",
       "        vertical-align: middle;\n",
       "    }\n",
       "\n",
       "    .dataframe tbody tr th {\n",
       "        vertical-align: top;\n",
       "    }\n",
       "\n",
       "    .dataframe thead th {\n",
       "        text-align: right;\n",
       "    }\n",
       "</style>\n",
       "<table border=\"1\" class=\"dataframe\">\n",
       "  <thead>\n",
       "    <tr style=\"text-align: right;\">\n",
       "      <th></th>\n",
       "      <th>Name</th>\n",
       "      <th>Age</th>\n",
       "      <th>Salary</th>\n",
       "      <th>Bonus</th>\n",
       "      <th>Total</th>\n",
       "    </tr>\n",
       "  </thead>\n",
       "  <tbody>\n",
       "    <tr>\n",
       "      <th>5</th>\n",
       "      <td>Abhay</td>\n",
       "      <td>65</td>\n",
       "      <td>25503</td>\n",
       "      <td>5275</td>\n",
       "      <td>30778</td>\n",
       "    </tr>\n",
       "    <tr>\n",
       "      <th>1</th>\n",
       "      <td>Anand</td>\n",
       "      <td>65</td>\n",
       "      <td>29182</td>\n",
       "      <td>8037</td>\n",
       "      <td>37219</td>\n",
       "    </tr>\n",
       "    <tr>\n",
       "      <th>0</th>\n",
       "      <td>Bhavin</td>\n",
       "      <td>45</td>\n",
       "      <td>33740</td>\n",
       "      <td>8032</td>\n",
       "      <td>41772</td>\n",
       "    </tr>\n",
       "    <tr>\n",
       "      <th>6</th>\n",
       "      <td>Dhaval</td>\n",
       "      <td>34</td>\n",
       "      <td>34453</td>\n",
       "      <td>6268</td>\n",
       "      <td>40721</td>\n",
       "    </tr>\n",
       "    <tr>\n",
       "      <th>3</th>\n",
       "      <td>Hemal</td>\n",
       "      <td>65</td>\n",
       "      <td>45994</td>\n",
       "      <td>5813</td>\n",
       "      <td>51807</td>\n",
       "    </tr>\n",
       "    <tr>\n",
       "      <th>2</th>\n",
       "      <td>Sagar</td>\n",
       "      <td>34</td>\n",
       "      <td>15372</td>\n",
       "      <td>9032</td>\n",
       "      <td>24404</td>\n",
       "    </tr>\n",
       "    <tr>\n",
       "      <th>4</th>\n",
       "      <td>Sagil</td>\n",
       "      <td>76</td>\n",
       "      <td>43103</td>\n",
       "      <td>8619</td>\n",
       "      <td>51722</td>\n",
       "    </tr>\n",
       "  </tbody>\n",
       "</table>\n",
       "</div>"
      ],
      "text/plain": [
       "     Name  Age  Salary  Bonus  Total\n",
       "5   Abhay   65   25503   5275  30778\n",
       "1   Anand   65   29182   8037  37219\n",
       "0  Bhavin   45   33740   8032  41772\n",
       "6  Dhaval   34   34453   6268  40721\n",
       "3   Hemal   65   45994   5813  51807\n",
       "2   Sagar   34   15372   9032  24404\n",
       "4   Sagil   76   43103   8619  51722"
      ]
     },
     "execution_count": 16,
     "metadata": {},
     "output_type": "execute_result"
    }
   ],
   "source": [
    "# DataFrame.sort_values() sorts by values:\n",
    "df.sort_values(by=\"Name\")"
   ]
  },
  {
   "cell_type": "code",
   "execution_count": 17,
   "id": "8383852c",
   "metadata": {},
   "outputs": [
    {
     "data": {
      "text/plain": [
       "0    Bhavin\n",
       "1     Anand\n",
       "2     Sagar\n",
       "3     Hemal\n",
       "4     Sagil\n",
       "5     Abhay\n",
       "6    Dhaval\n",
       "Name: Name, dtype: object"
      ]
     },
     "execution_count": 17,
     "metadata": {},
     "output_type": "execute_result"
    }
   ],
   "source": [
    "df[\"Name\"] # select column"
   ]
  },
  {
   "cell_type": "code",
   "execution_count": 18,
   "id": "ccd9c02b",
   "metadata": {},
   "outputs": [
    {
     "data": {
      "text/html": [
       "<div>\n",
       "<style scoped>\n",
       "    .dataframe tbody tr th:only-of-type {\n",
       "        vertical-align: middle;\n",
       "    }\n",
       "\n",
       "    .dataframe tbody tr th {\n",
       "        vertical-align: top;\n",
       "    }\n",
       "\n",
       "    .dataframe thead th {\n",
       "        text-align: right;\n",
       "    }\n",
       "</style>\n",
       "<table border=\"1\" class=\"dataframe\">\n",
       "  <thead>\n",
       "    <tr style=\"text-align: right;\">\n",
       "      <th></th>\n",
       "      <th>Name</th>\n",
       "      <th>Age</th>\n",
       "      <th>Salary</th>\n",
       "      <th>Bonus</th>\n",
       "      <th>Total</th>\n",
       "    </tr>\n",
       "  </thead>\n",
       "  <tbody>\n",
       "    <tr>\n",
       "      <th>1</th>\n",
       "      <td>Anand</td>\n",
       "      <td>65</td>\n",
       "      <td>29182</td>\n",
       "      <td>8037</td>\n",
       "      <td>37219</td>\n",
       "    </tr>\n",
       "    <tr>\n",
       "      <th>2</th>\n",
       "      <td>Sagar</td>\n",
       "      <td>34</td>\n",
       "      <td>15372</td>\n",
       "      <td>9032</td>\n",
       "      <td>24404</td>\n",
       "    </tr>\n",
       "  </tbody>\n",
       "</table>\n",
       "</div>"
      ],
      "text/plain": [
       "    Name  Age  Salary  Bonus  Total\n",
       "1  Anand   65   29182   8037  37219\n",
       "2  Sagar   34   15372   9032  24404"
      ]
     },
     "execution_count": 18,
     "metadata": {},
     "output_type": "execute_result"
    }
   ],
   "source": [
    "df[1:3] # slicing"
   ]
  },
  {
   "cell_type": "code",
   "execution_count": 19,
   "id": "d761d51e",
   "metadata": {},
   "outputs": [
    {
     "data": {
      "text/html": [
       "<div>\n",
       "<style scoped>\n",
       "    .dataframe tbody tr th:only-of-type {\n",
       "        vertical-align: middle;\n",
       "    }\n",
       "\n",
       "    .dataframe tbody tr th {\n",
       "        vertical-align: top;\n",
       "    }\n",
       "\n",
       "    .dataframe thead th {\n",
       "        text-align: right;\n",
       "    }\n",
       "</style>\n",
       "<table border=\"1\" class=\"dataframe\">\n",
       "  <thead>\n",
       "    <tr style=\"text-align: right;\">\n",
       "      <th></th>\n",
       "      <th>Name</th>\n",
       "      <th>Age</th>\n",
       "      <th>Salary</th>\n",
       "      <th>Bonus</th>\n",
       "      <th>Total</th>\n",
       "    </tr>\n",
       "  </thead>\n",
       "  <tbody>\n",
       "    <tr>\n",
       "      <th>1</th>\n",
       "      <td>Anand</td>\n",
       "      <td>65</td>\n",
       "      <td>29182</td>\n",
       "      <td>8037</td>\n",
       "      <td>37219</td>\n",
       "    </tr>\n",
       "    <tr>\n",
       "      <th>3</th>\n",
       "      <td>Hemal</td>\n",
       "      <td>65</td>\n",
       "      <td>45994</td>\n",
       "      <td>5813</td>\n",
       "      <td>51807</td>\n",
       "    </tr>\n",
       "    <tr>\n",
       "      <th>4</th>\n",
       "      <td>Sagil</td>\n",
       "      <td>76</td>\n",
       "      <td>43103</td>\n",
       "      <td>8619</td>\n",
       "      <td>51722</td>\n",
       "    </tr>\n",
       "    <tr>\n",
       "      <th>5</th>\n",
       "      <td>Abhay</td>\n",
       "      <td>65</td>\n",
       "      <td>25503</td>\n",
       "      <td>5275</td>\n",
       "      <td>30778</td>\n",
       "    </tr>\n",
       "  </tbody>\n",
       "</table>\n",
       "</div>"
      ],
      "text/plain": [
       "    Name  Age  Salary  Bonus  Total\n",
       "1  Anand   65   29182   8037  37219\n",
       "3  Hemal   65   45994   5813  51807\n",
       "4  Sagil   76   43103   8619  51722\n",
       "5  Abhay   65   25503   5275  30778"
      ]
     },
     "execution_count": 19,
     "metadata": {},
     "output_type": "execute_result"
    }
   ],
   "source": [
    "df[df[\"Age\"] > 45] # use boolean condition "
   ]
  },
  {
   "cell_type": "code",
   "execution_count": 20,
   "id": "33fee8d7",
   "metadata": {},
   "outputs": [
    {
     "data": {
      "text/html": [
       "<div>\n",
       "<style scoped>\n",
       "    .dataframe tbody tr th:only-of-type {\n",
       "        vertical-align: middle;\n",
       "    }\n",
       "\n",
       "    .dataframe tbody tr th {\n",
       "        vertical-align: top;\n",
       "    }\n",
       "\n",
       "    .dataframe thead th {\n",
       "        text-align: right;\n",
       "    }\n",
       "</style>\n",
       "<table border=\"1\" class=\"dataframe\">\n",
       "  <thead>\n",
       "    <tr style=\"text-align: right;\">\n",
       "      <th></th>\n",
       "      <th>Age</th>\n",
       "      <th>Name</th>\n",
       "    </tr>\n",
       "  </thead>\n",
       "  <tbody>\n",
       "    <tr>\n",
       "      <th>0</th>\n",
       "      <td>45</td>\n",
       "      <td>Bhavin</td>\n",
       "    </tr>\n",
       "    <tr>\n",
       "      <th>1</th>\n",
       "      <td>65</td>\n",
       "      <td>Anand</td>\n",
       "    </tr>\n",
       "    <tr>\n",
       "      <th>2</th>\n",
       "      <td>34</td>\n",
       "      <td>Sagar</td>\n",
       "    </tr>\n",
       "    <tr>\n",
       "      <th>3</th>\n",
       "      <td>65</td>\n",
       "      <td>Hemal</td>\n",
       "    </tr>\n",
       "    <tr>\n",
       "      <th>4</th>\n",
       "      <td>76</td>\n",
       "      <td>Sagil</td>\n",
       "    </tr>\n",
       "    <tr>\n",
       "      <th>5</th>\n",
       "      <td>65</td>\n",
       "      <td>Abhay</td>\n",
       "    </tr>\n",
       "    <tr>\n",
       "      <th>6</th>\n",
       "      <td>34</td>\n",
       "      <td>Dhaval</td>\n",
       "    </tr>\n",
       "  </tbody>\n",
       "</table>\n",
       "</div>"
      ],
      "text/plain": [
       "   Age    Name\n",
       "0   45  Bhavin\n",
       "1   65   Anand\n",
       "2   34   Sagar\n",
       "3   65   Hemal\n",
       "4   76   Sagil\n",
       "5   65   Abhay\n",
       "6   34  Dhaval"
      ]
     },
     "execution_count": 20,
     "metadata": {},
     "output_type": "execute_result"
    }
   ],
   "source": [
    "df[[\"Age\",\"Name\"]] # select mutiple column"
   ]
  },
  {
   "cell_type": "markdown",
   "id": "26f36111",
   "metadata": {},
   "source": [
    "- Selection by label"
   ]
  },
  {
   "cell_type": "code",
   "execution_count": 21,
   "id": "7c4e1633",
   "metadata": {},
   "outputs": [
    {
     "data": {
      "text/plain": [
       "Name      Bhavin\n",
       "Age           45\n",
       "Salary     33740\n",
       "Bonus       8032\n",
       "Total      41772\n",
       "Name: 0, dtype: object"
      ]
     },
     "execution_count": 21,
     "metadata": {},
     "output_type": "execute_result"
    }
   ],
   "source": [
    "# selecting by lable\n",
    "df.loc[0]"
   ]
  },
  {
   "cell_type": "code",
   "execution_count": 22,
   "id": "44321709",
   "metadata": {},
   "outputs": [
    {
     "data": {
      "text/html": [
       "<div>\n",
       "<style scoped>\n",
       "    .dataframe tbody tr th:only-of-type {\n",
       "        vertical-align: middle;\n",
       "    }\n",
       "\n",
       "    .dataframe tbody tr th {\n",
       "        vertical-align: top;\n",
       "    }\n",
       "\n",
       "    .dataframe thead th {\n",
       "        text-align: right;\n",
       "    }\n",
       "</style>\n",
       "<table border=\"1\" class=\"dataframe\">\n",
       "  <thead>\n",
       "    <tr style=\"text-align: right;\">\n",
       "      <th></th>\n",
       "      <th>Name</th>\n",
       "      <th>Age</th>\n",
       "    </tr>\n",
       "  </thead>\n",
       "  <tbody>\n",
       "    <tr>\n",
       "      <th>0</th>\n",
       "      <td>Bhavin</td>\n",
       "      <td>45</td>\n",
       "    </tr>\n",
       "    <tr>\n",
       "      <th>1</th>\n",
       "      <td>Anand</td>\n",
       "      <td>65</td>\n",
       "    </tr>\n",
       "    <tr>\n",
       "      <th>2</th>\n",
       "      <td>Sagar</td>\n",
       "      <td>34</td>\n",
       "    </tr>\n",
       "    <tr>\n",
       "      <th>3</th>\n",
       "      <td>Hemal</td>\n",
       "      <td>65</td>\n",
       "    </tr>\n",
       "    <tr>\n",
       "      <th>4</th>\n",
       "      <td>Sagil</td>\n",
       "      <td>76</td>\n",
       "    </tr>\n",
       "    <tr>\n",
       "      <th>5</th>\n",
       "      <td>Abhay</td>\n",
       "      <td>65</td>\n",
       "    </tr>\n",
       "    <tr>\n",
       "      <th>6</th>\n",
       "      <td>Dhaval</td>\n",
       "      <td>34</td>\n",
       "    </tr>\n",
       "  </tbody>\n",
       "</table>\n",
       "</div>"
      ],
      "text/plain": [
       "     Name  Age\n",
       "0  Bhavin   45\n",
       "1   Anand   65\n",
       "2   Sagar   34\n",
       "3   Hemal   65\n",
       "4   Sagil   76\n",
       "5   Abhay   65\n",
       "6  Dhaval   34"
      ]
     },
     "execution_count": 22,
     "metadata": {},
     "output_type": "execute_result"
    }
   ],
   "source": [
    "# selecting all rows (:) with a select column labels:\n",
    "df.loc[:,[\"Name\",\"Age\"]]"
   ]
  },
  {
   "cell_type": "code",
   "execution_count": 23,
   "id": "0fdc94a3",
   "metadata": {},
   "outputs": [
    {
     "data": {
      "text/html": [
       "<div>\n",
       "<style scoped>\n",
       "    .dataframe tbody tr th:only-of-type {\n",
       "        vertical-align: middle;\n",
       "    }\n",
       "\n",
       "    .dataframe tbody tr th {\n",
       "        vertical-align: top;\n",
       "    }\n",
       "\n",
       "    .dataframe thead th {\n",
       "        text-align: right;\n",
       "    }\n",
       "</style>\n",
       "<table border=\"1\" class=\"dataframe\">\n",
       "  <thead>\n",
       "    <tr style=\"text-align: right;\">\n",
       "      <th></th>\n",
       "      <th>Name</th>\n",
       "      <th>Salary</th>\n",
       "    </tr>\n",
       "  </thead>\n",
       "  <tbody>\n",
       "    <tr>\n",
       "      <th>1</th>\n",
       "      <td>Anand</td>\n",
       "      <td>29182</td>\n",
       "    </tr>\n",
       "    <tr>\n",
       "      <th>2</th>\n",
       "      <td>Sagar</td>\n",
       "      <td>15372</td>\n",
       "    </tr>\n",
       "    <tr>\n",
       "      <th>3</th>\n",
       "      <td>Hemal</td>\n",
       "      <td>45994</td>\n",
       "    </tr>\n",
       "  </tbody>\n",
       "</table>\n",
       "</div>"
      ],
      "text/plain": [
       "    Name  Salary\n",
       "1  Anand   29182\n",
       "2  Sagar   15372\n",
       "3  Hemal   45994"
      ]
     },
     "execution_count": 23,
     "metadata": {},
     "output_type": "execute_result"
    }
   ],
   "source": [
    "df.loc[1:3,[\"Name\",\"Salary\"]]"
   ]
  },
  {
   "cell_type": "markdown",
   "id": "9b650bcb",
   "metadata": {},
   "source": [
    "- Selection by position"
   ]
  },
  {
   "cell_type": "code",
   "execution_count": 24,
   "id": "79f9cbbf",
   "metadata": {},
   "outputs": [
    {
     "data": {
      "text/plain": [
       "Name      Anand\n",
       "Age          65\n",
       "Salary    29182\n",
       "Bonus      8037\n",
       "Total     37219\n",
       "Name: 1, dtype: object"
      ]
     },
     "execution_count": 24,
     "metadata": {},
     "output_type": "execute_result"
    }
   ],
   "source": [
    "df.iloc[1]"
   ]
  },
  {
   "cell_type": "code",
   "execution_count": 25,
   "id": "f08a0455",
   "metadata": {},
   "outputs": [
    {
     "data": {
      "text/html": [
       "<div>\n",
       "<style scoped>\n",
       "    .dataframe tbody tr th:only-of-type {\n",
       "        vertical-align: middle;\n",
       "    }\n",
       "\n",
       "    .dataframe tbody tr th {\n",
       "        vertical-align: top;\n",
       "    }\n",
       "\n",
       "    .dataframe thead th {\n",
       "        text-align: right;\n",
       "    }\n",
       "</style>\n",
       "<table border=\"1\" class=\"dataframe\">\n",
       "  <thead>\n",
       "    <tr style=\"text-align: right;\">\n",
       "      <th></th>\n",
       "      <th>Name</th>\n",
       "      <th>Age</th>\n",
       "      <th>Salary</th>\n",
       "      <th>Bonus</th>\n",
       "    </tr>\n",
       "  </thead>\n",
       "  <tbody>\n",
       "    <tr>\n",
       "      <th>1</th>\n",
       "      <td>Anand</td>\n",
       "      <td>65</td>\n",
       "      <td>29182</td>\n",
       "      <td>8037</td>\n",
       "    </tr>\n",
       "    <tr>\n",
       "      <th>2</th>\n",
       "      <td>Sagar</td>\n",
       "      <td>34</td>\n",
       "      <td>15372</td>\n",
       "      <td>9032</td>\n",
       "    </tr>\n",
       "  </tbody>\n",
       "</table>\n",
       "</div>"
      ],
      "text/plain": [
       "    Name  Age  Salary  Bonus\n",
       "1  Anand   65   29182   8037\n",
       "2  Sagar   34   15372   9032"
      ]
     },
     "execution_count": 25,
     "metadata": {},
     "output_type": "execute_result"
    }
   ],
   "source": [
    "df.iloc[1:3,0:4]"
   ]
  },
  {
   "cell_type": "code",
   "execution_count": 26,
   "id": "f27a623a",
   "metadata": {},
   "outputs": [
    {
     "data": {
      "text/html": [
       "<div>\n",
       "<style scoped>\n",
       "    .dataframe tbody tr th:only-of-type {\n",
       "        vertical-align: middle;\n",
       "    }\n",
       "\n",
       "    .dataframe tbody tr th {\n",
       "        vertical-align: top;\n",
       "    }\n",
       "\n",
       "    .dataframe thead th {\n",
       "        text-align: right;\n",
       "    }\n",
       "</style>\n",
       "<table border=\"1\" class=\"dataframe\">\n",
       "  <thead>\n",
       "    <tr style=\"text-align: right;\">\n",
       "      <th></th>\n",
       "      <th>Name</th>\n",
       "      <th>Salary</th>\n",
       "    </tr>\n",
       "  </thead>\n",
       "  <tbody>\n",
       "    <tr>\n",
       "      <th>1</th>\n",
       "      <td>Anand</td>\n",
       "      <td>29182</td>\n",
       "    </tr>\n",
       "    <tr>\n",
       "      <th>5</th>\n",
       "      <td>Abhay</td>\n",
       "      <td>25503</td>\n",
       "    </tr>\n",
       "    <tr>\n",
       "      <th>3</th>\n",
       "      <td>Hemal</td>\n",
       "      <td>45994</td>\n",
       "    </tr>\n",
       "  </tbody>\n",
       "</table>\n",
       "</div>"
      ],
      "text/plain": [
       "    Name  Salary\n",
       "1  Anand   29182\n",
       "5  Abhay   25503\n",
       "3  Hemal   45994"
      ]
     },
     "execution_count": 26,
     "metadata": {},
     "output_type": "execute_result"
    }
   ],
   "source": [
    "df.iloc[[1,5,3],[0,2]] # select to row and column and useing list pass"
   ]
  },
  {
   "cell_type": "code",
   "execution_count": 27,
   "id": "992c145f",
   "metadata": {},
   "outputs": [
    {
     "data": {
      "text/html": [
       "<div>\n",
       "<style scoped>\n",
       "    .dataframe tbody tr th:only-of-type {\n",
       "        vertical-align: middle;\n",
       "    }\n",
       "\n",
       "    .dataframe tbody tr th {\n",
       "        vertical-align: top;\n",
       "    }\n",
       "\n",
       "    .dataframe thead th {\n",
       "        text-align: right;\n",
       "    }\n",
       "</style>\n",
       "<table border=\"1\" class=\"dataframe\">\n",
       "  <thead>\n",
       "    <tr style=\"text-align: right;\">\n",
       "      <th></th>\n",
       "      <th>Name</th>\n",
       "      <th>Age</th>\n",
       "      <th>Salary</th>\n",
       "      <th>Bonus</th>\n",
       "      <th>Total</th>\n",
       "    </tr>\n",
       "  </thead>\n",
       "  <tbody>\n",
       "    <tr>\n",
       "      <th>1</th>\n",
       "      <td>Anand</td>\n",
       "      <td>65</td>\n",
       "      <td>29182</td>\n",
       "      <td>8037</td>\n",
       "      <td>37219</td>\n",
       "    </tr>\n",
       "    <tr>\n",
       "      <th>2</th>\n",
       "      <td>Sagar</td>\n",
       "      <td>34</td>\n",
       "      <td>15372</td>\n",
       "      <td>9032</td>\n",
       "      <td>24404</td>\n",
       "    </tr>\n",
       "    <tr>\n",
       "      <th>3</th>\n",
       "      <td>Hemal</td>\n",
       "      <td>65</td>\n",
       "      <td>45994</td>\n",
       "      <td>5813</td>\n",
       "      <td>51807</td>\n",
       "    </tr>\n",
       "  </tbody>\n",
       "</table>\n",
       "</div>"
      ],
      "text/plain": [
       "    Name  Age  Salary  Bonus  Total\n",
       "1  Anand   65   29182   8037  37219\n",
       "2  Sagar   34   15372   9032  24404\n",
       "3  Hemal   65   45994   5813  51807"
      ]
     },
     "execution_count": 27,
     "metadata": {},
     "output_type": "execute_result"
    }
   ],
   "source": [
    "df.iloc[1:4,:]"
   ]
  },
  {
   "cell_type": "code",
   "execution_count": 28,
   "id": "17cb28ac",
   "metadata": {},
   "outputs": [
    {
     "data": {
      "text/html": [
       "<div>\n",
       "<style scoped>\n",
       "    .dataframe tbody tr th:only-of-type {\n",
       "        vertical-align: middle;\n",
       "    }\n",
       "\n",
       "    .dataframe tbody tr th {\n",
       "        vertical-align: top;\n",
       "    }\n",
       "\n",
       "    .dataframe thead th {\n",
       "        text-align: right;\n",
       "    }\n",
       "</style>\n",
       "<table border=\"1\" class=\"dataframe\">\n",
       "  <thead>\n",
       "    <tr style=\"text-align: right;\">\n",
       "      <th></th>\n",
       "      <th>Age</th>\n",
       "      <th>Salary</th>\n",
       "    </tr>\n",
       "  </thead>\n",
       "  <tbody>\n",
       "    <tr>\n",
       "      <th>0</th>\n",
       "      <td>45</td>\n",
       "      <td>33740</td>\n",
       "    </tr>\n",
       "    <tr>\n",
       "      <th>1</th>\n",
       "      <td>65</td>\n",
       "      <td>29182</td>\n",
       "    </tr>\n",
       "    <tr>\n",
       "      <th>2</th>\n",
       "      <td>34</td>\n",
       "      <td>15372</td>\n",
       "    </tr>\n",
       "    <tr>\n",
       "      <th>3</th>\n",
       "      <td>65</td>\n",
       "      <td>45994</td>\n",
       "    </tr>\n",
       "    <tr>\n",
       "      <th>4</th>\n",
       "      <td>76</td>\n",
       "      <td>43103</td>\n",
       "    </tr>\n",
       "    <tr>\n",
       "      <th>5</th>\n",
       "      <td>65</td>\n",
       "      <td>25503</td>\n",
       "    </tr>\n",
       "    <tr>\n",
       "      <th>6</th>\n",
       "      <td>34</td>\n",
       "      <td>34453</td>\n",
       "    </tr>\n",
       "  </tbody>\n",
       "</table>\n",
       "</div>"
      ],
      "text/plain": [
       "   Age  Salary\n",
       "0   45   33740\n",
       "1   65   29182\n",
       "2   34   15372\n",
       "3   65   45994\n",
       "4   76   43103\n",
       "5   65   25503\n",
       "6   34   34453"
      ]
     },
     "execution_count": 28,
     "metadata": {},
     "output_type": "execute_result"
    }
   ],
   "source": [
    "df.iloc[:,1:3]"
   ]
  },
  {
   "cell_type": "code",
   "execution_count": 29,
   "id": "d43fb4db",
   "metadata": {},
   "outputs": [
    {
     "data": {
      "text/plain": [
       "np.int64(65)"
      ]
     },
     "execution_count": 29,
     "metadata": {},
     "output_type": "execute_result"
    }
   ],
   "source": [
    "df.iat[1,1]"
   ]
  },
  {
   "cell_type": "code",
   "execution_count": 30,
   "id": "5a5f24d4",
   "metadata": {},
   "outputs": [
    {
     "data": {
      "text/html": [
       "<div>\n",
       "<style scoped>\n",
       "    .dataframe tbody tr th:only-of-type {\n",
       "        vertical-align: middle;\n",
       "    }\n",
       "\n",
       "    .dataframe tbody tr th {\n",
       "        vertical-align: top;\n",
       "    }\n",
       "\n",
       "    .dataframe thead th {\n",
       "        text-align: right;\n",
       "    }\n",
       "</style>\n",
       "<table border=\"1\" class=\"dataframe\">\n",
       "  <thead>\n",
       "    <tr style=\"text-align: right;\">\n",
       "      <th></th>\n",
       "      <th>Name</th>\n",
       "      <th>Age</th>\n",
       "      <th>Salary</th>\n",
       "      <th>Bonus</th>\n",
       "      <th>Total</th>\n",
       "    </tr>\n",
       "  </thead>\n",
       "  <tbody>\n",
       "    <tr>\n",
       "      <th>0</th>\n",
       "      <td>Bhavin</td>\n",
       "      <td>45</td>\n",
       "      <td>33740</td>\n",
       "      <td>8032</td>\n",
       "      <td>41772</td>\n",
       "    </tr>\n",
       "    <tr>\n",
       "      <th>1</th>\n",
       "      <td>Anand</td>\n",
       "      <td>65</td>\n",
       "      <td>29182</td>\n",
       "      <td>8037</td>\n",
       "      <td>37219</td>\n",
       "    </tr>\n",
       "    <tr>\n",
       "      <th>2</th>\n",
       "      <td>Sagar</td>\n",
       "      <td>34</td>\n",
       "      <td>15372</td>\n",
       "      <td>9032</td>\n",
       "      <td>24404</td>\n",
       "    </tr>\n",
       "    <tr>\n",
       "      <th>3</th>\n",
       "      <td>Hemal</td>\n",
       "      <td>65</td>\n",
       "      <td>45994</td>\n",
       "      <td>5813</td>\n",
       "      <td>51807</td>\n",
       "    </tr>\n",
       "    <tr>\n",
       "      <th>4</th>\n",
       "      <td>Sagil</td>\n",
       "      <td>76</td>\n",
       "      <td>43103</td>\n",
       "      <td>8619</td>\n",
       "      <td>51722</td>\n",
       "    </tr>\n",
       "    <tr>\n",
       "      <th>5</th>\n",
       "      <td>Abhay</td>\n",
       "      <td>65</td>\n",
       "      <td>25503</td>\n",
       "      <td>5275</td>\n",
       "      <td>30778</td>\n",
       "    </tr>\n",
       "    <tr>\n",
       "      <th>6</th>\n",
       "      <td>Dhaval</td>\n",
       "      <td>34</td>\n",
       "      <td>34453</td>\n",
       "      <td>6268</td>\n",
       "      <td>40721</td>\n",
       "    </tr>\n",
       "  </tbody>\n",
       "</table>\n",
       "</div>"
      ],
      "text/plain": [
       "     Name  Age  Salary  Bonus  Total\n",
       "0  Bhavin   45   33740   8032  41772\n",
       "1   Anand   65   29182   8037  37219\n",
       "2   Sagar   34   15372   9032  24404\n",
       "3   Hemal   65   45994   5813  51807\n",
       "4   Sagil   76   43103   8619  51722\n",
       "5   Abhay   65   25503   5275  30778\n",
       "6  Dhaval   34   34453   6268  40721"
      ]
     },
     "execution_count": 30,
     "metadata": {},
     "output_type": "execute_result"
    }
   ],
   "source": [
    "df2 = df.copy()\n",
    "df2"
   ]
  },
  {
   "cell_type": "code",
   "execution_count": 31,
   "id": "a8eae338",
   "metadata": {},
   "outputs": [
    {
     "data": {
      "text/plain": [
       "0     True\n",
       "1     True\n",
       "2    False\n",
       "3    False\n",
       "4    False\n",
       "5    False\n",
       "6    False\n",
       "Name: Name, dtype: bool"
      ]
     },
     "execution_count": 31,
     "metadata": {},
     "output_type": "execute_result"
    }
   ],
   "source": [
    "# isin method\n",
    "df2[\"Name\"].isin([\"Bhavin\",\"Anand\"]) # return true or false"
   ]
  },
  {
   "cell_type": "code",
   "execution_count": 32,
   "id": "ddc340a4",
   "metadata": {},
   "outputs": [
    {
     "data": {
      "text/html": [
       "<div>\n",
       "<style scoped>\n",
       "    .dataframe tbody tr th:only-of-type {\n",
       "        vertical-align: middle;\n",
       "    }\n",
       "\n",
       "    .dataframe tbody tr th {\n",
       "        vertical-align: top;\n",
       "    }\n",
       "\n",
       "    .dataframe thead th {\n",
       "        text-align: right;\n",
       "    }\n",
       "</style>\n",
       "<table border=\"1\" class=\"dataframe\">\n",
       "  <thead>\n",
       "    <tr style=\"text-align: right;\">\n",
       "      <th></th>\n",
       "      <th>Name</th>\n",
       "      <th>Age</th>\n",
       "      <th>Salary</th>\n",
       "      <th>Bonus</th>\n",
       "      <th>Total</th>\n",
       "    </tr>\n",
       "  </thead>\n",
       "  <tbody>\n",
       "    <tr>\n",
       "      <th>0</th>\n",
       "      <td>Bhavin</td>\n",
       "      <td>45.0</td>\n",
       "      <td>33740.0</td>\n",
       "      <td>8032.0</td>\n",
       "      <td>41772.0</td>\n",
       "    </tr>\n",
       "    <tr>\n",
       "      <th>1</th>\n",
       "      <td>Anand</td>\n",
       "      <td>65.0</td>\n",
       "      <td>29182.0</td>\n",
       "      <td>8037.0</td>\n",
       "      <td>37219.0</td>\n",
       "    </tr>\n",
       "    <tr>\n",
       "      <th>2</th>\n",
       "      <td>NaN</td>\n",
       "      <td>NaN</td>\n",
       "      <td>NaN</td>\n",
       "      <td>NaN</td>\n",
       "      <td>NaN</td>\n",
       "    </tr>\n",
       "    <tr>\n",
       "      <th>3</th>\n",
       "      <td>Hemal</td>\n",
       "      <td>65.0</td>\n",
       "      <td>45994.0</td>\n",
       "      <td>5813.0</td>\n",
       "      <td>51807.0</td>\n",
       "    </tr>\n",
       "    <tr>\n",
       "      <th>4</th>\n",
       "      <td>Sagil</td>\n",
       "      <td>76.0</td>\n",
       "      <td>43103.0</td>\n",
       "      <td>8619.0</td>\n",
       "      <td>51722.0</td>\n",
       "    </tr>\n",
       "    <tr>\n",
       "      <th>5</th>\n",
       "      <td>Abhay</td>\n",
       "      <td>65.0</td>\n",
       "      <td>25503.0</td>\n",
       "      <td>5275.0</td>\n",
       "      <td>30778.0</td>\n",
       "    </tr>\n",
       "    <tr>\n",
       "      <th>6</th>\n",
       "      <td>NaN</td>\n",
       "      <td>NaN</td>\n",
       "      <td>NaN</td>\n",
       "      <td>NaN</td>\n",
       "      <td>NaN</td>\n",
       "    </tr>\n",
       "  </tbody>\n",
       "</table>\n",
       "</div>"
      ],
      "text/plain": [
       "     Name   Age   Salary   Bonus    Total\n",
       "0  Bhavin  45.0  33740.0  8032.0  41772.0\n",
       "1   Anand  65.0  29182.0  8037.0  37219.0\n",
       "2     NaN   NaN      NaN     NaN      NaN\n",
       "3   Hemal  65.0  45994.0  5813.0  51807.0\n",
       "4   Sagil  76.0  43103.0  8619.0  51722.0\n",
       "5   Abhay  65.0  25503.0  5275.0  30778.0\n",
       "6     NaN   NaN      NaN     NaN      NaN"
      ]
     },
     "execution_count": 32,
     "metadata": {},
     "output_type": "execute_result"
    }
   ],
   "source": [
    "#where contdition\n",
    "df = df.where(df[\"Age\"] > 40)\n",
    "df"
   ]
  },
  {
   "cell_type": "code",
   "execution_count": 33,
   "id": "3ff7521e",
   "metadata": {},
   "outputs": [
    {
     "data": {
      "text/html": [
       "<div>\n",
       "<style scoped>\n",
       "    .dataframe tbody tr th:only-of-type {\n",
       "        vertical-align: middle;\n",
       "    }\n",
       "\n",
       "    .dataframe tbody tr th {\n",
       "        vertical-align: top;\n",
       "    }\n",
       "\n",
       "    .dataframe thead th {\n",
       "        text-align: right;\n",
       "    }\n",
       "</style>\n",
       "<table border=\"1\" class=\"dataframe\">\n",
       "  <thead>\n",
       "    <tr style=\"text-align: right;\">\n",
       "      <th></th>\n",
       "      <th>Name</th>\n",
       "      <th>Age</th>\n",
       "      <th>Salary</th>\n",
       "      <th>Bonus</th>\n",
       "      <th>Total</th>\n",
       "    </tr>\n",
       "  </thead>\n",
       "  <tbody>\n",
       "    <tr>\n",
       "      <th>0</th>\n",
       "      <td>Bhavin</td>\n",
       "      <td>45.0</td>\n",
       "      <td>33740.0</td>\n",
       "      <td>8032.0</td>\n",
       "      <td>41772.0</td>\n",
       "    </tr>\n",
       "    <tr>\n",
       "      <th>1</th>\n",
       "      <td>Anand</td>\n",
       "      <td>65.0</td>\n",
       "      <td>29182.0</td>\n",
       "      <td>8037.0</td>\n",
       "      <td>37219.0</td>\n",
       "    </tr>\n",
       "    <tr>\n",
       "      <th>3</th>\n",
       "      <td>Hemal</td>\n",
       "      <td>65.0</td>\n",
       "      <td>45994.0</td>\n",
       "      <td>5813.0</td>\n",
       "      <td>51807.0</td>\n",
       "    </tr>\n",
       "    <tr>\n",
       "      <th>4</th>\n",
       "      <td>Sagil</td>\n",
       "      <td>76.0</td>\n",
       "      <td>43103.0</td>\n",
       "      <td>8619.0</td>\n",
       "      <td>51722.0</td>\n",
       "    </tr>\n",
       "    <tr>\n",
       "      <th>5</th>\n",
       "      <td>Abhay</td>\n",
       "      <td>65.0</td>\n",
       "      <td>25503.0</td>\n",
       "      <td>5275.0</td>\n",
       "      <td>30778.0</td>\n",
       "    </tr>\n",
       "  </tbody>\n",
       "</table>\n",
       "</div>"
      ],
      "text/plain": [
       "     Name   Age   Salary   Bonus    Total\n",
       "0  Bhavin  45.0  33740.0  8032.0  41772.0\n",
       "1   Anand  65.0  29182.0  8037.0  37219.0\n",
       "3   Hemal  65.0  45994.0  5813.0  51807.0\n",
       "4   Sagil  76.0  43103.0  8619.0  51722.0\n",
       "5   Abhay  65.0  25503.0  5275.0  30778.0"
      ]
     },
     "execution_count": 33,
     "metadata": {},
     "output_type": "execute_result"
    }
   ],
   "source": [
    "# DataFrame.dropna() drops any rows that have missing data\n",
    "df.dropna(how='any')"
   ]
  },
  {
   "cell_type": "code",
   "execution_count": 34,
   "id": "3ba54e33",
   "metadata": {},
   "outputs": [
    {
     "data": {
      "text/html": [
       "<div>\n",
       "<style scoped>\n",
       "    .dataframe tbody tr th:only-of-type {\n",
       "        vertical-align: middle;\n",
       "    }\n",
       "\n",
       "    .dataframe tbody tr th {\n",
       "        vertical-align: top;\n",
       "    }\n",
       "\n",
       "    .dataframe thead th {\n",
       "        text-align: right;\n",
       "    }\n",
       "</style>\n",
       "<table border=\"1\" class=\"dataframe\">\n",
       "  <thead>\n",
       "    <tr style=\"text-align: right;\">\n",
       "      <th></th>\n",
       "      <th>Name</th>\n",
       "      <th>Age</th>\n",
       "      <th>Salary</th>\n",
       "      <th>Bonus</th>\n",
       "      <th>Total</th>\n",
       "    </tr>\n",
       "  </thead>\n",
       "  <tbody>\n",
       "    <tr>\n",
       "      <th>0</th>\n",
       "      <td>Bhavin</td>\n",
       "      <td>45.0</td>\n",
       "      <td>33740.0</td>\n",
       "      <td>8032.0</td>\n",
       "      <td>41772.0</td>\n",
       "    </tr>\n",
       "    <tr>\n",
       "      <th>1</th>\n",
       "      <td>Anand</td>\n",
       "      <td>65.0</td>\n",
       "      <td>29182.0</td>\n",
       "      <td>8037.0</td>\n",
       "      <td>37219.0</td>\n",
       "    </tr>\n",
       "    <tr>\n",
       "      <th>2</th>\n",
       "      <td>5</td>\n",
       "      <td>5.0</td>\n",
       "      <td>5.0</td>\n",
       "      <td>5.0</td>\n",
       "      <td>5.0</td>\n",
       "    </tr>\n",
       "    <tr>\n",
       "      <th>3</th>\n",
       "      <td>Hemal</td>\n",
       "      <td>65.0</td>\n",
       "      <td>45994.0</td>\n",
       "      <td>5813.0</td>\n",
       "      <td>51807.0</td>\n",
       "    </tr>\n",
       "    <tr>\n",
       "      <th>4</th>\n",
       "      <td>Sagil</td>\n",
       "      <td>76.0</td>\n",
       "      <td>43103.0</td>\n",
       "      <td>8619.0</td>\n",
       "      <td>51722.0</td>\n",
       "    </tr>\n",
       "    <tr>\n",
       "      <th>5</th>\n",
       "      <td>Abhay</td>\n",
       "      <td>65.0</td>\n",
       "      <td>25503.0</td>\n",
       "      <td>5275.0</td>\n",
       "      <td>30778.0</td>\n",
       "    </tr>\n",
       "    <tr>\n",
       "      <th>6</th>\n",
       "      <td>5</td>\n",
       "      <td>5.0</td>\n",
       "      <td>5.0</td>\n",
       "      <td>5.0</td>\n",
       "      <td>5.0</td>\n",
       "    </tr>\n",
       "  </tbody>\n",
       "</table>\n",
       "</div>"
      ],
      "text/plain": [
       "     Name   Age   Salary   Bonus    Total\n",
       "0  Bhavin  45.0  33740.0  8032.0  41772.0\n",
       "1   Anand  65.0  29182.0  8037.0  37219.0\n",
       "2       5   5.0      5.0     5.0      5.0\n",
       "3   Hemal  65.0  45994.0  5813.0  51807.0\n",
       "4   Sagil  76.0  43103.0  8619.0  51722.0\n",
       "5   Abhay  65.0  25503.0  5275.0  30778.0\n",
       "6       5   5.0      5.0     5.0      5.0"
      ]
     },
     "execution_count": 34,
     "metadata": {},
     "output_type": "execute_result"
    }
   ],
   "source": [
    "# DataFrame.fillna() fills missing data:\n",
    "df.fillna(value=5)"
   ]
  },
  {
   "cell_type": "code",
   "execution_count": 35,
   "id": "7ae5cd61",
   "metadata": {},
   "outputs": [
    {
     "data": {
      "text/html": [
       "<div>\n",
       "<style scoped>\n",
       "    .dataframe tbody tr th:only-of-type {\n",
       "        vertical-align: middle;\n",
       "    }\n",
       "\n",
       "    .dataframe tbody tr th {\n",
       "        vertical-align: top;\n",
       "    }\n",
       "\n",
       "    .dataframe thead th {\n",
       "        text-align: right;\n",
       "    }\n",
       "</style>\n",
       "<table border=\"1\" class=\"dataframe\">\n",
       "  <thead>\n",
       "    <tr style=\"text-align: right;\">\n",
       "      <th></th>\n",
       "      <th>Name</th>\n",
       "      <th>Age</th>\n",
       "      <th>Salary</th>\n",
       "      <th>Bonus</th>\n",
       "      <th>Total</th>\n",
       "    </tr>\n",
       "  </thead>\n",
       "  <tbody>\n",
       "    <tr>\n",
       "      <th>0</th>\n",
       "      <td>False</td>\n",
       "      <td>False</td>\n",
       "      <td>False</td>\n",
       "      <td>False</td>\n",
       "      <td>False</td>\n",
       "    </tr>\n",
       "    <tr>\n",
       "      <th>1</th>\n",
       "      <td>False</td>\n",
       "      <td>False</td>\n",
       "      <td>False</td>\n",
       "      <td>False</td>\n",
       "      <td>False</td>\n",
       "    </tr>\n",
       "    <tr>\n",
       "      <th>2</th>\n",
       "      <td>True</td>\n",
       "      <td>True</td>\n",
       "      <td>True</td>\n",
       "      <td>True</td>\n",
       "      <td>True</td>\n",
       "    </tr>\n",
       "    <tr>\n",
       "      <th>3</th>\n",
       "      <td>False</td>\n",
       "      <td>False</td>\n",
       "      <td>False</td>\n",
       "      <td>False</td>\n",
       "      <td>False</td>\n",
       "    </tr>\n",
       "    <tr>\n",
       "      <th>4</th>\n",
       "      <td>False</td>\n",
       "      <td>False</td>\n",
       "      <td>False</td>\n",
       "      <td>False</td>\n",
       "      <td>False</td>\n",
       "    </tr>\n",
       "    <tr>\n",
       "      <th>5</th>\n",
       "      <td>False</td>\n",
       "      <td>False</td>\n",
       "      <td>False</td>\n",
       "      <td>False</td>\n",
       "      <td>False</td>\n",
       "    </tr>\n",
       "    <tr>\n",
       "      <th>6</th>\n",
       "      <td>True</td>\n",
       "      <td>True</td>\n",
       "      <td>True</td>\n",
       "      <td>True</td>\n",
       "      <td>True</td>\n",
       "    </tr>\n",
       "  </tbody>\n",
       "</table>\n",
       "</div>"
      ],
      "text/plain": [
       "    Name    Age  Salary  Bonus  Total\n",
       "0  False  False   False  False  False\n",
       "1  False  False   False  False  False\n",
       "2   True   True    True   True   True\n",
       "3  False  False   False  False  False\n",
       "4  False  False   False  False  False\n",
       "5  False  False   False  False  False\n",
       "6   True   True    True   True   True"
      ]
     },
     "execution_count": 35,
     "metadata": {},
     "output_type": "execute_result"
    }
   ],
   "source": [
    "# isna() gets the boolean mask where values are nan\n",
    "df.isna()"
   ]
  },
  {
   "cell_type": "code",
   "execution_count": 36,
   "id": "ea34cce4",
   "metadata": {},
   "outputs": [
    {
     "data": {
      "text/html": [
       "<div>\n",
       "<style scoped>\n",
       "    .dataframe tbody tr th:only-of-type {\n",
       "        vertical-align: middle;\n",
       "    }\n",
       "\n",
       "    .dataframe tbody tr th {\n",
       "        vertical-align: top;\n",
       "    }\n",
       "\n",
       "    .dataframe thead th {\n",
       "        text-align: right;\n",
       "    }\n",
       "</style>\n",
       "<table border=\"1\" class=\"dataframe\">\n",
       "  <thead>\n",
       "    <tr style=\"text-align: right;\">\n",
       "      <th></th>\n",
       "      <th>Name</th>\n",
       "      <th>Age</th>\n",
       "      <th>Salary</th>\n",
       "      <th>Bonus</th>\n",
       "      <th>Total</th>\n",
       "    </tr>\n",
       "  </thead>\n",
       "  <tbody>\n",
       "    <tr>\n",
       "      <th>0</th>\n",
       "      <td>Bhavin</td>\n",
       "      <td>45.0</td>\n",
       "      <td>33740.0</td>\n",
       "      <td>8032.0</td>\n",
       "      <td>41772.0</td>\n",
       "    </tr>\n",
       "    <tr>\n",
       "      <th>1</th>\n",
       "      <td>Anand</td>\n",
       "      <td>65.0</td>\n",
       "      <td>29182.0</td>\n",
       "      <td>8037.0</td>\n",
       "      <td>37219.0</td>\n",
       "    </tr>\n",
       "    <tr>\n",
       "      <th>3</th>\n",
       "      <td>Hemal</td>\n",
       "      <td>65.0</td>\n",
       "      <td>45994.0</td>\n",
       "      <td>5813.0</td>\n",
       "      <td>51807.0</td>\n",
       "    </tr>\n",
       "    <tr>\n",
       "      <th>4</th>\n",
       "      <td>Sagil</td>\n",
       "      <td>76.0</td>\n",
       "      <td>43103.0</td>\n",
       "      <td>8619.0</td>\n",
       "      <td>51722.0</td>\n",
       "    </tr>\n",
       "    <tr>\n",
       "      <th>5</th>\n",
       "      <td>Abhay</td>\n",
       "      <td>65.0</td>\n",
       "      <td>25503.0</td>\n",
       "      <td>5275.0</td>\n",
       "      <td>30778.0</td>\n",
       "    </tr>\n",
       "  </tbody>\n",
       "</table>\n",
       "</div>"
      ],
      "text/plain": [
       "     Name   Age   Salary   Bonus    Total\n",
       "0  Bhavin  45.0  33740.0  8032.0  41772.0\n",
       "1   Anand  65.0  29182.0  8037.0  37219.0\n",
       "3   Hemal  65.0  45994.0  5813.0  51807.0\n",
       "4   Sagil  76.0  43103.0  8619.0  51722.0\n",
       "5   Abhay  65.0  25503.0  5275.0  30778.0"
      ]
     },
     "execution_count": 36,
     "metadata": {},
     "output_type": "execute_result"
    }
   ],
   "source": [
    "df.dropna(inplace=True)\n",
    "df"
   ]
  },
  {
   "cell_type": "code",
   "execution_count": 37,
   "id": "92ccd32e",
   "metadata": {},
   "outputs": [
    {
     "name": "stdout",
     "output_type": "stream",
     "text": [
      "63.2\n",
      "45.0\n",
      "76.0\n",
      "76.0\n"
     ]
    }
   ],
   "source": [
    "print(df[\"Age\"].mean())\n",
    "print(df[\"Age\"].min())\n",
    "print(df[\"Age\"].max())\n",
    "print(df[\"Age\"].max())"
   ]
  },
  {
   "cell_type": "code",
   "execution_count": 38,
   "id": "12de85cc",
   "metadata": {},
   "outputs": [
    {
     "data": {
      "text/plain": [
       "2025-01-01    NaN\n",
       "2025-01-02    NaN\n",
       "2025-01-03    1.0\n",
       "2025-01-04    3.0\n",
       "2025-01-05    5.0\n",
       "2025-01-06    NaN\n",
       "Freq: D, dtype: float64"
      ]
     },
     "execution_count": 38,
     "metadata": {},
     "output_type": "execute_result"
    }
   ],
   "source": [
    "s = pd.Series([1, 3, 5, np.nan, 6, 8], index=dates).shift(2)\n",
    "s"
   ]
  },
  {
   "cell_type": "code",
   "execution_count": 39,
   "id": "f80627d7",
   "metadata": {},
   "outputs": [
    {
     "name": "stdout",
     "output_type": "stream",
     "text": [
      "0    252.0\n",
      "1    364.0\n",
      "3    364.0\n",
      "4    425.6\n",
      "5    364.0\n",
      "Name: Age, dtype: float64\n",
      "0    168700.0\n",
      "1    145910.0\n",
      "3    229970.0\n",
      "4    215515.0\n",
      "5    127515.0\n",
      "Name: Salary, dtype: float64\n"
     ]
    },
    {
     "name": "stderr",
     "output_type": "stream",
     "text": [
      "C:\\Users\\Lenovo\\AppData\\Local\\Temp\\ipykernel_4812\\2500158097.py:3: FutureWarning: using <function <lambda> at 0x0000018D55D163E0> in Series.agg cannot aggregate and has been deprecated. Use Series.transform to keep behavior unchanged.\n",
      "  print(df[\"Age\"].agg(lambda x: np.mean(x) * 5.6))\n"
     ]
    }
   ],
   "source": [
    "# user define function\n",
    "# DataFrame.agg() and DataFrame.transform() applies a user defined function that reduces or broadcasts its result respectively.\n",
    "print(df[\"Age\"].agg(lambda x: np.mean(x) * 5.6))\n",
    "print(df[\"Salary\"].transform(lambda x:x * 5))"
   ]
  },
  {
   "cell_type": "code",
   "execution_count": 40,
   "id": "b1b1c577",
   "metadata": {},
   "outputs": [
    {
     "data": {
      "text/plain": [
       "0    148\n",
       "1    136\n",
       "2    149\n",
       "3    140\n",
       "4    104\n",
       "5    114\n",
       "6    147\n",
       "7    181\n",
       "8    182\n",
       "9    156\n",
       "dtype: int32"
      ]
     },
     "execution_count": 40,
     "metadata": {},
     "output_type": "execute_result"
    }
   ],
   "source": [
    "s = pd.Series(np.random.randint(100,200,size=10))\n",
    "s"
   ]
  },
  {
   "cell_type": "code",
   "execution_count": 41,
   "id": "83a82aca",
   "metadata": {},
   "outputs": [
    {
     "data": {
      "text/plain": [
       "148    1\n",
       "136    1\n",
       "149    1\n",
       "140    1\n",
       "104    1\n",
       "114    1\n",
       "147    1\n",
       "181    1\n",
       "182    1\n",
       "156    1\n",
       "Name: count, dtype: int64"
      ]
     },
     "execution_count": 41,
     "metadata": {},
     "output_type": "execute_result"
    }
   ],
   "source": [
    "s.value_counts() # value cound to repited value is how many type repite"
   ]
  },
  {
   "cell_type": "code",
   "execution_count": 42,
   "id": "f1835a64",
   "metadata": {},
   "outputs": [
    {
     "data": {
      "text/plain": [
       "array([['Bhavin', 'amreli'],\n",
       "       ['Bhai', 'savarkundala'],\n",
       "       ['Hariyani', 'surat']], dtype=object)"
      ]
     },
     "execution_count": 42,
     "metadata": {},
     "output_type": "execute_result"
    }
   ],
   "source": [
    "df1 = pd.DataFrame({\n",
    "    \"Name\":[\"Bhavin\",\"Bhai\",\"Hariyani\"]\n",
    "})\n",
    "\n",
    "\n",
    "df2 = pd.DataFrame({\n",
    "    \"City\":[\"amreli\",\"savarkundala\",\"surat\"]\n",
    "})\n",
    "\n",
    "c = np.concat([df1,df2],axis=1)\n",
    "c"
   ]
  },
  {
   "cell_type": "code",
   "execution_count": 43,
   "id": "e778a00b",
   "metadata": {},
   "outputs": [
    {
     "data": {
      "text/html": [
       "<div>\n",
       "<style scoped>\n",
       "    .dataframe tbody tr th:only-of-type {\n",
       "        vertical-align: middle;\n",
       "    }\n",
       "\n",
       "    .dataframe tbody tr th {\n",
       "        vertical-align: top;\n",
       "    }\n",
       "\n",
       "    .dataframe thead th {\n",
       "        text-align: right;\n",
       "    }\n",
       "</style>\n",
       "<table border=\"1\" class=\"dataframe\">\n",
       "  <thead>\n",
       "    <tr style=\"text-align: right;\">\n",
       "      <th></th>\n",
       "      <th>key</th>\n",
       "      <th>lval</th>\n",
       "      <th>rval</th>\n",
       "    </tr>\n",
       "  </thead>\n",
       "  <tbody>\n",
       "    <tr>\n",
       "      <th>0</th>\n",
       "      <td>foo</td>\n",
       "      <td>1</td>\n",
       "      <td>4</td>\n",
       "    </tr>\n",
       "    <tr>\n",
       "      <th>1</th>\n",
       "      <td>foo</td>\n",
       "      <td>1</td>\n",
       "      <td>5</td>\n",
       "    </tr>\n",
       "    <tr>\n",
       "      <th>2</th>\n",
       "      <td>foo</td>\n",
       "      <td>2</td>\n",
       "      <td>4</td>\n",
       "    </tr>\n",
       "    <tr>\n",
       "      <th>3</th>\n",
       "      <td>foo</td>\n",
       "      <td>2</td>\n",
       "      <td>5</td>\n",
       "    </tr>\n",
       "  </tbody>\n",
       "</table>\n",
       "</div>"
      ],
      "text/plain": [
       "   key  lval  rval\n",
       "0  foo     1     4\n",
       "1  foo     1     5\n",
       "2  foo     2     4\n",
       "3  foo     2     5"
      ]
     },
     "execution_count": 43,
     "metadata": {},
     "output_type": "execute_result"
    }
   ],
   "source": [
    "left = pd.DataFrame({\"key\": [\"foo\", \"foo\"], \"lval\": [1, 2]})\n",
    "right = pd.DataFrame({\"key\": [\"foo\", \"foo\"], \"rval\": [4, 5]})\n",
    "\n",
    "# merge\n",
    "\n",
    "pd.merge(left,right,on=\"key\")"
   ]
  },
  {
   "cell_type": "code",
   "execution_count": 44,
   "id": "c5ed2e0a",
   "metadata": {},
   "outputs": [
    {
     "data": {
      "text/plain": [
       "Salary\n",
       "25503.0     Abhay\n",
       "29182.0     Anand\n",
       "33740.0    Bhavin\n",
       "43103.0     Sagil\n",
       "45994.0     Hemal\n",
       "Name: Name, dtype: object"
      ]
     },
     "execution_count": 44,
     "metadata": {},
     "output_type": "execute_result"
    }
   ],
   "source": [
    "df.groupby(\"Salary\").sum()\n",
    "df.groupby(\"Salary\")[\"Name\"].sum()"
   ]
  },
  {
   "cell_type": "code",
   "execution_count": 45,
   "id": "5a9e33b4",
   "metadata": {},
   "outputs": [
    {
     "data": {
      "text/plain": [
       "Name\n",
       "A    288\n",
       "B    230\n",
       "C    117\n",
       "D    172\n",
       "Name: Salary, dtype: int64"
      ]
     },
     "execution_count": 45,
     "metadata": {},
     "output_type": "execute_result"
    }
   ],
   "source": [
    "df = pd.DataFrame({\n",
    "    \"Name\":[\"A\",\"B\",\"C\",\"D\",\"A\",\"B\"],\n",
    "    \"Salary\":[np.random.randint(100,200) for i in range(6)]\n",
    "})\n",
    "df.groupby(\"Name\")[\"Salary\"].sum()"
   ]
  },
  {
   "cell_type": "code",
   "execution_count": 46,
   "id": "c276063c",
   "metadata": {},
   "outputs": [
    {
     "data": {
      "text/plain": [
       "0  Name        A\n",
       "   Salary    181\n",
       "1  Name        B\n",
       "   Salary    125\n",
       "2  Name        C\n",
       "   Salary    117\n",
       "3  Name        D\n",
       "   Salary    172\n",
       "4  Name        A\n",
       "   Salary    107\n",
       "5  Name        B\n",
       "   Salary    105\n",
       "dtype: object"
      ]
     },
     "execution_count": 46,
     "metadata": {},
     "output_type": "execute_result"
    }
   ],
   "source": [
    "# The stack() method “compresses” a level in the DataFrame’s columns:\n",
    "df.stack()"
   ]
  },
  {
   "cell_type": "code",
   "execution_count": 47,
   "id": "68015609",
   "metadata": {},
   "outputs": [
    {
     "data": {
      "text/plain": [
       "Name    0      A\n",
       "        1      B\n",
       "        2      C\n",
       "        3      D\n",
       "        4      A\n",
       "        5      B\n",
       "Salary  0    181\n",
       "        1    125\n",
       "        2    117\n",
       "        3    172\n",
       "        4    107\n",
       "        5    105\n",
       "dtype: object"
      ]
     },
     "execution_count": 47,
     "metadata": {},
     "output_type": "execute_result"
    }
   ],
   "source": [
    "df.unstack()"
   ]
  },
  {
   "cell_type": "code",
   "execution_count": 48,
   "id": "e16d1eed",
   "metadata": {},
   "outputs": [
    {
     "data": {
      "text/plain": [
       "Name    0      A\n",
       "        1      B\n",
       "        2      C\n",
       "        3      D\n",
       "        4      A\n",
       "        5      B\n",
       "Salary  0    181\n",
       "        1    125\n",
       "        2    117\n",
       "        3    172\n",
       "        4    107\n",
       "        5    105\n",
       "dtype: object"
      ]
     },
     "execution_count": 48,
     "metadata": {},
     "output_type": "execute_result"
    }
   ],
   "source": [
    "df.unstack(0)"
   ]
  },
  {
   "cell_type": "code",
   "execution_count": 49,
   "id": "3d832a1e",
   "metadata": {},
   "outputs": [
    {
     "data": {
      "text/html": [
       "<div>\n",
       "<style scoped>\n",
       "    .dataframe tbody tr th:only-of-type {\n",
       "        vertical-align: middle;\n",
       "    }\n",
       "\n",
       "    .dataframe tbody tr th {\n",
       "        vertical-align: top;\n",
       "    }\n",
       "\n",
       "    .dataframe thead th {\n",
       "        text-align: right;\n",
       "    }\n",
       "</style>\n",
       "<table border=\"1\" class=\"dataframe\">\n",
       "  <thead>\n",
       "    <tr style=\"text-align: right;\">\n",
       "      <th></th>\n",
       "      <th>Total</th>\n",
       "    </tr>\n",
       "    <tr>\n",
       "      <th>Customer</th>\n",
       "      <th></th>\n",
       "    </tr>\n",
       "  </thead>\n",
       "  <tbody>\n",
       "    <tr>\n",
       "      <th>Anita</th>\n",
       "      <td>96000</td>\n",
       "    </tr>\n",
       "    <tr>\n",
       "      <th>Kiran</th>\n",
       "      <td>2400</td>\n",
       "    </tr>\n",
       "    <tr>\n",
       "      <th>Pooja</th>\n",
       "      <td>8000</td>\n",
       "    </tr>\n",
       "    <tr>\n",
       "      <th>Ramesh</th>\n",
       "      <td>60000</td>\n",
       "    </tr>\n",
       "    <tr>\n",
       "      <th>Suresh</th>\n",
       "      <td>30000</td>\n",
       "    </tr>\n",
       "  </tbody>\n",
       "</table>\n",
       "</div>"
      ],
      "text/plain": [
       "          Total\n",
       "Customer       \n",
       "Anita     96000\n",
       "Kiran      2400\n",
       "Pooja      8000\n",
       "Ramesh    60000\n",
       "Suresh    30000"
      ]
     },
     "execution_count": 49,
     "metadata": {},
     "output_type": "execute_result"
    }
   ],
   "source": [
    "df_sales = pd.DataFrame({\n",
    "    \"OrderID\": [101, 102, 103, 104, 105, 106, 107],\n",
    "    \"Customer\": [\"Ramesh\", \"Suresh\", \"Anita\", \"Kiran\", \"Pooja\", \"Ramesh\", \"Anita\"],\n",
    "    \"Product\": [\"Laptop\", \"Mobile\", \"Headphones\", \"Keyboard\", \"Monitor\", \"Mobile\", \"Laptop\"],\n",
    "    \"Quantity\": [1, 2, 3, 2, 1, 1, 2],\n",
    "    \"Price\": [45000, 15000, 2000, 1200, 8000, 15000, 45000]\n",
    "})\n",
    "df_sales[\"Total\"] = df_sales[\"Quantity\"] * df_sales[\"Price\"]\n",
    "df_sales\n",
    "\n",
    "pivot1 = pd.pivot_table(df_sales, \n",
    "                        index=\"Customer\", \n",
    "                        values=\"Total\", \n",
    "                        aggfunc=\"sum\")\n",
    "pivot1"
   ]
  }
 ],
 "metadata": {
  "kernelspec": {
   "display_name": "venv",
   "language": "python",
   "name": "python3"
  },
  "language_info": {
   "codemirror_mode": {
    "name": "ipython",
    "version": 3
   },
   "file_extension": ".py",
   "mimetype": "text/x-python",
   "name": "python",
   "nbconvert_exporter": "python",
   "pygments_lexer": "ipython3",
   "version": "3.13.3"
  }
 },
 "nbformat": 4,
 "nbformat_minor": 5
}
