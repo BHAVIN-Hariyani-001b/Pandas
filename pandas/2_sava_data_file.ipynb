{
 "cells": [
  {
   "cell_type": "code",
   "execution_count": 5,
   "id": "bce163e8",
   "metadata": {},
   "outputs": [],
   "source": [
    "import pandas as pd"
   ]
  },
  {
   "cell_type": "code",
   "execution_count": 18,
   "id": "d763978a",
   "metadata": {},
   "outputs": [],
   "source": [
    "data = {\n",
    "    \"Name\":[\"Ram\",\"Shyam\",\"Ghanshyam\"],\n",
    "    \"Age\":[10,20,30],\n",
    "    \"City\":['Nagpur','Mumbai','Delhi']\n",
    "}\n",
    "\n",
    "df = pd.DataFrame(data)\n",
    "df\n",
    "\n",
    "# save csv file\n",
    "df.to_csv('./datafile/Output1.csv',index=False) # index keyword is use to index is to allow/not allow to print in csv file \n",
    "df.to_excel('./datafile/Output1.xlsx') # index keyword is use to index is to allow/not allow to print in excel file file \n",
    "df.to_json('./datafile/Output1.json') # index keyword is use to index is to allow/not allow to print in json file file "
   ]
  }
 ],
 "metadata": {
  "kernelspec": {
   "display_name": "venv",
   "language": "python",
   "name": "python3"
  },
  "language_info": {
   "codemirror_mode": {
    "name": "ipython",
    "version": 3
   },
   "file_extension": ".py",
   "mimetype": "text/x-python",
   "name": "python",
   "nbconvert_exporter": "python",
   "pygments_lexer": "ipython3",
   "version": "3.13.3"
  }
 },
 "nbformat": 4,
 "nbformat_minor": 5
}
